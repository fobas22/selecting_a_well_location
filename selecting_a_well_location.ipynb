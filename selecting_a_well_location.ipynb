{
 "cells": [
  {
   "cell_type": "markdown",
   "metadata": {},
   "source": [
    "# Выбор локации для скважины"
   ]
  },
  {
   "cell_type": "markdown",
   "metadata": {},
   "source": [
    "Допустим, вы работаете в добывающей компании «ГлавРосГосНефть». Нужно решить, где бурить новую скважину.\n",
    "\n",
    "Вам предоставлены пробы нефти в трёх регионах: в каждом 10 000 месторождений, где измерили качество нефти и объём её запасов. **Постройте модель машинного обучения**, которая поможет определить регион, где добыча принесёт наибольшую прибыль. **Проанализируйте** возможную **прибыль** и **риски** техникой *Bootstrap.*\n",
    "\n",
    "Шаги для выбора локации:\n",
    "\n",
    "- В избранном регионе ищут месторождения, для каждого определяют значения признаков;\n",
    "- Строят модель и оценивают объём запасов;\n",
    "- Выбирают месторождения с самым высокими оценками значений. Количество месторождений зависит от бюджета компании и стоимости разработки одной скважины;\n",
    "- Прибыль равна суммарной прибыли отобранных месторождений."
   ]
  },
  {
   "cell_type": "markdown",
   "metadata": {},
   "source": [
    "## Загрузка и подготовка данных"
   ]
  },
  {
   "cell_type": "markdown",
   "metadata": {},
   "source": [
    "### Загрузка бибилиотек"
   ]
  },
  {
   "cell_type": "code",
   "execution_count": 1,
   "metadata": {},
   "outputs": [],
   "source": [
    "import pandas as pd\n",
    "import matplotlib.pyplot as plt\n",
    "import seaborn as sns\n",
    "import warnings\n",
    "import numpy as np\n",
    "\n",
    "from  sklearn.dummy import DummyRegressor\n",
    "from sklearn.linear_model import LinearRegression, ElasticNet\n",
    "\n",
    "from sklearn.pipeline import Pipeline\n",
    "from sklearn.compose import ColumnTransformer\n",
    "from sklearn.impute import SimpleImputer\n",
    "from sklearn.preprocessing import StandardScaler\n",
    "\n",
    "from sklearn.model_selection import GridSearchCV\n",
    "\n",
    "from sklearn.model_selection import train_test_split\n",
    "\n",
    "from sklearn.metrics import mean_squared_error"
   ]
  },
  {
   "cell_type": "code",
   "execution_count": 2,
   "metadata": {
    "scrolled": true
   },
   "outputs": [],
   "source": [
    "!pip install phik -q\n",
    "from phik import phik_matrix\n",
    "from phik.report import plot_correlation_matrix"
   ]
  },
  {
   "cell_type": "markdown",
   "metadata": {},
   "source": [
    "Библиотеки загружены без ошибок"
   ]
  },
  {
   "cell_type": "markdown",
   "metadata": {},
   "source": [
    "### Загрузка датасетов"
   ]
  },
  {
   "cell_type": "markdown",
   "metadata": {},
   "source": [
    "Регион 1"
   ]
  },
  {
   "cell_type": "code",
   "execution_count": 3,
   "metadata": {
    "scrolled": false
   },
   "outputs": [
    {
     "data": {
      "text/html": [
       "<div>\n",
       "<style scoped>\n",
       "    .dataframe tbody tr th:only-of-type {\n",
       "        vertical-align: middle;\n",
       "    }\n",
       "\n",
       "    .dataframe tbody tr th {\n",
       "        vertical-align: top;\n",
       "    }\n",
       "\n",
       "    .dataframe thead th {\n",
       "        text-align: right;\n",
       "    }\n",
       "</style>\n",
       "<table border=\"1\" class=\"dataframe\">\n",
       "  <thead>\n",
       "    <tr style=\"text-align: right;\">\n",
       "      <th></th>\n",
       "      <th>id</th>\n",
       "      <th>f0</th>\n",
       "      <th>f1</th>\n",
       "      <th>f2</th>\n",
       "      <th>product</th>\n",
       "    </tr>\n",
       "  </thead>\n",
       "  <tbody>\n",
       "    <tr>\n",
       "      <th>0</th>\n",
       "      <td>txEyH</td>\n",
       "      <td>0.705745</td>\n",
       "      <td>-0.497823</td>\n",
       "      <td>1.221170</td>\n",
       "      <td>105.280062</td>\n",
       "    </tr>\n",
       "    <tr>\n",
       "      <th>1</th>\n",
       "      <td>2acmU</td>\n",
       "      <td>1.334711</td>\n",
       "      <td>-0.340164</td>\n",
       "      <td>4.365080</td>\n",
       "      <td>73.037750</td>\n",
       "    </tr>\n",
       "    <tr>\n",
       "      <th>2</th>\n",
       "      <td>409Wp</td>\n",
       "      <td>1.022732</td>\n",
       "      <td>0.151990</td>\n",
       "      <td>1.419926</td>\n",
       "      <td>85.265647</td>\n",
       "    </tr>\n",
       "    <tr>\n",
       "      <th>3</th>\n",
       "      <td>iJLyR</td>\n",
       "      <td>-0.032172</td>\n",
       "      <td>0.139033</td>\n",
       "      <td>2.978566</td>\n",
       "      <td>168.620776</td>\n",
       "    </tr>\n",
       "    <tr>\n",
       "      <th>4</th>\n",
       "      <td>Xdl7t</td>\n",
       "      <td>1.988431</td>\n",
       "      <td>0.155413</td>\n",
       "      <td>4.751769</td>\n",
       "      <td>154.036647</td>\n",
       "    </tr>\n",
       "  </tbody>\n",
       "</table>\n",
       "</div>"
      ],
      "text/plain": [
       "      id        f0        f1        f2     product\n",
       "0  txEyH  0.705745 -0.497823  1.221170  105.280062\n",
       "1  2acmU  1.334711 -0.340164  4.365080   73.037750\n",
       "2  409Wp  1.022732  0.151990  1.419926   85.265647\n",
       "3  iJLyR -0.032172  0.139033  2.978566  168.620776\n",
       "4  Xdl7t  1.988431  0.155413  4.751769  154.036647"
      ]
     },
     "execution_count": 3,
     "metadata": {},
     "output_type": "execute_result"
    }
   ],
   "source": [
    "df_rg1 = pd.read_csv('/datasets/geo_data_0.csv', sep=',', decimal='.')\n",
    "df_rg1.head()"
   ]
  },
  {
   "cell_type": "markdown",
   "metadata": {},
   "source": [
    "Регион 2"
   ]
  },
  {
   "cell_type": "code",
   "execution_count": 4,
   "metadata": {
    "scrolled": false
   },
   "outputs": [
    {
     "data": {
      "text/html": [
       "<div>\n",
       "<style scoped>\n",
       "    .dataframe tbody tr th:only-of-type {\n",
       "        vertical-align: middle;\n",
       "    }\n",
       "\n",
       "    .dataframe tbody tr th {\n",
       "        vertical-align: top;\n",
       "    }\n",
       "\n",
       "    .dataframe thead th {\n",
       "        text-align: right;\n",
       "    }\n",
       "</style>\n",
       "<table border=\"1\" class=\"dataframe\">\n",
       "  <thead>\n",
       "    <tr style=\"text-align: right;\">\n",
       "      <th></th>\n",
       "      <th>id</th>\n",
       "      <th>f0</th>\n",
       "      <th>f1</th>\n",
       "      <th>f2</th>\n",
       "      <th>product</th>\n",
       "    </tr>\n",
       "  </thead>\n",
       "  <tbody>\n",
       "    <tr>\n",
       "      <th>0</th>\n",
       "      <td>kBEdx</td>\n",
       "      <td>-15.001348</td>\n",
       "      <td>-8.276000</td>\n",
       "      <td>-0.005876</td>\n",
       "      <td>3.179103</td>\n",
       "    </tr>\n",
       "    <tr>\n",
       "      <th>1</th>\n",
       "      <td>62mP7</td>\n",
       "      <td>14.272088</td>\n",
       "      <td>-3.475083</td>\n",
       "      <td>0.999183</td>\n",
       "      <td>26.953261</td>\n",
       "    </tr>\n",
       "    <tr>\n",
       "      <th>2</th>\n",
       "      <td>vyE1P</td>\n",
       "      <td>6.263187</td>\n",
       "      <td>-5.948386</td>\n",
       "      <td>5.001160</td>\n",
       "      <td>134.766305</td>\n",
       "    </tr>\n",
       "    <tr>\n",
       "      <th>3</th>\n",
       "      <td>KcrkZ</td>\n",
       "      <td>-13.081196</td>\n",
       "      <td>-11.506057</td>\n",
       "      <td>4.999415</td>\n",
       "      <td>137.945408</td>\n",
       "    </tr>\n",
       "    <tr>\n",
       "      <th>4</th>\n",
       "      <td>AHL4O</td>\n",
       "      <td>12.702195</td>\n",
       "      <td>-8.147433</td>\n",
       "      <td>5.004363</td>\n",
       "      <td>134.766305</td>\n",
       "    </tr>\n",
       "  </tbody>\n",
       "</table>\n",
       "</div>"
      ],
      "text/plain": [
       "      id         f0         f1        f2     product\n",
       "0  kBEdx -15.001348  -8.276000 -0.005876    3.179103\n",
       "1  62mP7  14.272088  -3.475083  0.999183   26.953261\n",
       "2  vyE1P   6.263187  -5.948386  5.001160  134.766305\n",
       "3  KcrkZ -13.081196 -11.506057  4.999415  137.945408\n",
       "4  AHL4O  12.702195  -8.147433  5.004363  134.766305"
      ]
     },
     "execution_count": 4,
     "metadata": {},
     "output_type": "execute_result"
    }
   ],
   "source": [
    "df_rg2 = pd.read_csv('/datasets/geo_data_1.csv', decimal='.', sep=',')\n",
    "df_rg2.head()"
   ]
  },
  {
   "cell_type": "markdown",
   "metadata": {},
   "source": [
    "Регион 3"
   ]
  },
  {
   "cell_type": "code",
   "execution_count": 5,
   "metadata": {
    "scrolled": true
   },
   "outputs": [
    {
     "data": {
      "text/html": [
       "<div>\n",
       "<style scoped>\n",
       "    .dataframe tbody tr th:only-of-type {\n",
       "        vertical-align: middle;\n",
       "    }\n",
       "\n",
       "    .dataframe tbody tr th {\n",
       "        vertical-align: top;\n",
       "    }\n",
       "\n",
       "    .dataframe thead th {\n",
       "        text-align: right;\n",
       "    }\n",
       "</style>\n",
       "<table border=\"1\" class=\"dataframe\">\n",
       "  <thead>\n",
       "    <tr style=\"text-align: right;\">\n",
       "      <th></th>\n",
       "      <th>id</th>\n",
       "      <th>f0</th>\n",
       "      <th>f1</th>\n",
       "      <th>f2</th>\n",
       "      <th>product</th>\n",
       "    </tr>\n",
       "  </thead>\n",
       "  <tbody>\n",
       "    <tr>\n",
       "      <th>0</th>\n",
       "      <td>fwXo0</td>\n",
       "      <td>-1.146987</td>\n",
       "      <td>0.963328</td>\n",
       "      <td>-0.828965</td>\n",
       "      <td>27.758673</td>\n",
       "    </tr>\n",
       "    <tr>\n",
       "      <th>1</th>\n",
       "      <td>WJtFt</td>\n",
       "      <td>0.262778</td>\n",
       "      <td>0.269839</td>\n",
       "      <td>-2.530187</td>\n",
       "      <td>56.069697</td>\n",
       "    </tr>\n",
       "    <tr>\n",
       "      <th>2</th>\n",
       "      <td>ovLUW</td>\n",
       "      <td>0.194587</td>\n",
       "      <td>0.289035</td>\n",
       "      <td>-5.586433</td>\n",
       "      <td>62.871910</td>\n",
       "    </tr>\n",
       "    <tr>\n",
       "      <th>3</th>\n",
       "      <td>q6cA6</td>\n",
       "      <td>2.236060</td>\n",
       "      <td>-0.553760</td>\n",
       "      <td>0.930038</td>\n",
       "      <td>114.572842</td>\n",
       "    </tr>\n",
       "    <tr>\n",
       "      <th>4</th>\n",
       "      <td>WPMUX</td>\n",
       "      <td>-0.515993</td>\n",
       "      <td>1.716266</td>\n",
       "      <td>5.899011</td>\n",
       "      <td>149.600746</td>\n",
       "    </tr>\n",
       "  </tbody>\n",
       "</table>\n",
       "</div>"
      ],
      "text/plain": [
       "      id        f0        f1        f2     product\n",
       "0  fwXo0 -1.146987  0.963328 -0.828965   27.758673\n",
       "1  WJtFt  0.262778  0.269839 -2.530187   56.069697\n",
       "2  ovLUW  0.194587  0.289035 -5.586433   62.871910\n",
       "3  q6cA6  2.236060 -0.553760  0.930038  114.572842\n",
       "4  WPMUX -0.515993  1.716266  5.899011  149.600746"
      ]
     },
     "execution_count": 5,
     "metadata": {},
     "output_type": "execute_result"
    }
   ],
   "source": [
    "df_rg3 = pd.read_csv('/datasets/geo_data_2.csv', decimal='.', sep=',')\n",
    "df_rg3.head()"
   ]
  },
  {
   "cell_type": "markdown",
   "metadata": {},
   "source": [
    "Датафреймы загружены без ошибок и соответсвуют теми исследования"
   ]
  },
  {
   "cell_type": "markdown",
   "metadata": {},
   "source": [
    "### Проверка на пропуски и типы данных"
   ]
  },
  {
   "cell_type": "markdown",
   "metadata": {},
   "source": [
    "Словарь с датафреймами для удобства перебора"
   ]
  },
  {
   "cell_type": "code",
   "execution_count": 6,
   "metadata": {},
   "outputs": [],
   "source": [
    "df_dict = {'df_rg1':df_rg1, 'df_rg2':df_rg2, 'df_rg3':df_rg3}"
   ]
  },
  {
   "cell_type": "markdown",
   "metadata": {},
   "source": [
    "Перебор всех датафреймов в цикле"
   ]
  },
  {
   "cell_type": "code",
   "execution_count": 7,
   "metadata": {
    "scrolled": false
   },
   "outputs": [
    {
     "name": "stdout",
     "output_type": "stream",
     "text": [
      "df_rg1\n",
      "-------------------------------------\n",
      "<class 'pandas.core.frame.DataFrame'>\n",
      "RangeIndex: 100000 entries, 0 to 99999\n",
      "Data columns (total 5 columns):\n",
      " #   Column   Non-Null Count   Dtype  \n",
      "---  ------   --------------   -----  \n",
      " 0   id       100000 non-null  object \n",
      " 1   f0       100000 non-null  float64\n",
      " 2   f1       100000 non-null  float64\n",
      " 3   f2       100000 non-null  float64\n",
      " 4   product  100000 non-null  float64\n",
      "dtypes: float64(4), object(1)\n",
      "memory usage: 3.8+ MB\n",
      "None\n",
      "\n",
      "df_rg2\n",
      "-------------------------------------\n",
      "<class 'pandas.core.frame.DataFrame'>\n",
      "RangeIndex: 100000 entries, 0 to 99999\n",
      "Data columns (total 5 columns):\n",
      " #   Column   Non-Null Count   Dtype  \n",
      "---  ------   --------------   -----  \n",
      " 0   id       100000 non-null  object \n",
      " 1   f0       100000 non-null  float64\n",
      " 2   f1       100000 non-null  float64\n",
      " 3   f2       100000 non-null  float64\n",
      " 4   product  100000 non-null  float64\n",
      "dtypes: float64(4), object(1)\n",
      "memory usage: 3.8+ MB\n",
      "None\n",
      "\n",
      "df_rg3\n",
      "-------------------------------------\n",
      "<class 'pandas.core.frame.DataFrame'>\n",
      "RangeIndex: 100000 entries, 0 to 99999\n",
      "Data columns (total 5 columns):\n",
      " #   Column   Non-Null Count   Dtype  \n",
      "---  ------   --------------   -----  \n",
      " 0   id       100000 non-null  object \n",
      " 1   f0       100000 non-null  float64\n",
      " 2   f1       100000 non-null  float64\n",
      " 3   f2       100000 non-null  float64\n",
      " 4   product  100000 non-null  float64\n",
      "dtypes: float64(4), object(1)\n",
      "memory usage: 3.8+ MB\n",
      "None\n",
      "\n"
     ]
    }
   ],
   "source": [
    "for name, df in df_dict.items():\n",
    "    print(name)\n",
    "    print('-------------------------------------')\n",
    "    print(df.info(), end='\\n\\n')"
   ]
  },
  {
   "cell_type": "markdown",
   "metadata": {},
   "source": [
    "Проблем с пропусками и типами данных нет"
   ]
  },
  {
   "cell_type": "markdown",
   "metadata": {},
   "source": [
    "### Проверка на явные и неявные дубликаты"
   ]
  },
  {
   "cell_type": "markdown",
   "metadata": {},
   "source": [
    "Переберем датафреймы, чтобы проверить наличие явных дубликатов в строках без id"
   ]
  },
  {
   "cell_type": "code",
   "execution_count": 8,
   "metadata": {
    "scrolled": true
   },
   "outputs": [
    {
     "name": "stdout",
     "output_type": "stream",
     "text": [
      "Датафрейм df_rg1, к-во дубликатов строк: 0\n",
      "\n",
      "Датафрейм df_rg2, к-во дубликатов строк: 0\n",
      "\n",
      "Датафрейм df_rg3, к-во дубликатов строк: 0\n",
      "\n"
     ]
    }
   ],
   "source": [
    "for name, df in df_dict.items():\n",
    "    print(f'Датафрейм {name}, к-во дубликатов строк', end=': ')\n",
    "    print(df.drop('id',axis=1).duplicated().sum(), end='\\n\\n')"
   ]
  },
  {
   "cell_type": "markdown",
   "metadata": {},
   "source": [
    "Проверка признака id на наличие дубликатов в датафрейме через цикл"
   ]
  },
  {
   "cell_type": "code",
   "execution_count": 9,
   "metadata": {
    "scrolled": false
   },
   "outputs": [
    {
     "name": "stdout",
     "output_type": "stream",
     "text": [
      "К-во повторяющихся id в df_rg1:  10\n",
      "\n",
      "К-во повторяющихся id в df_rg2:  4\n",
      "\n",
      "К-во повторяющихся id в df_rg3:  4\n",
      "\n"
     ]
    }
   ],
   "source": [
    "for name, df in df_dict.items():\n",
    "    print(f'К-во повторяющихся id в {name}: ', df['id'].duplicated().sum(), end='\\n\\n')"
   ]
  },
  {
   "cell_type": "markdown",
   "metadata": {},
   "source": [
    "Устранение дубликатов в признаке id с оставлением первого повторяющегося в датафреймах через цикл с проверкой успешности результата"
   ]
  },
  {
   "cell_type": "code",
   "execution_count": 10,
   "metadata": {
    "scrolled": false
   },
   "outputs": [
    {
     "name": "stdout",
     "output_type": "stream",
     "text": [
      "К-во повторяющихся id в df_rg1:  0\n",
      "\n",
      "К-во повторяющихся id в df_rg2:  0\n",
      "\n",
      "К-во повторяющихся id в df_rg3:  0\n",
      "\n"
     ]
    }
   ],
   "source": [
    "for name, df in df_dict.items():\n",
    "    df_dict[name] = df.drop_duplicates(subset=['id'], keep='first')\n",
    "    print(f'К-во повторяющихся id в {name}: ',df_dict[name]['id'].duplicated().sum(), end='\\n\\n')"
   ]
  },
  {
   "cell_type": "markdown",
   "metadata": {},
   "source": [
    "Проверка текущего размера датафреймов относительно первоначального размера"
   ]
  },
  {
   "cell_type": "code",
   "execution_count": 11,
   "metadata": {
    "scrolled": true
   },
   "outputs": [
    {
     "name": "stdout",
     "output_type": "stream",
     "text": [
      "Текущий размер df_rg1:  99990\n",
      "Текущий размер df_rg2:  99996\n",
      "Текущий размер df_rg3:  99996\n"
     ]
    }
   ],
   "source": [
    "for name, df in df_dict.items():\n",
    "    print(f'Текущий размер {name}: ',df.shape[0])"
   ]
  },
  {
   "cell_type": "markdown",
   "metadata": {},
   "source": [
    "* Дубликатов среди строк не выявлено\n",
    "* Дубликаты среди id выявлены и устранены"
   ]
  },
  {
   "cell_type": "markdown",
   "metadata": {},
   "source": [
    "### Корреляционный анализ"
   ]
  },
  {
   "cell_type": "markdown",
   "metadata": {},
   "source": [
    "Для выявления мультиколлинеарности проведем корреляционный анализ признаков датафрейма"
   ]
  },
  {
   "cell_type": "markdown",
   "metadata": {},
   "source": [
    "Выпишем названия всех столбцов непрерывных количественных велечин"
   ]
  },
  {
   "cell_type": "code",
   "execution_count": 19,
   "metadata": {
    "scrolled": true
   },
   "outputs": [
    {
     "data": {
      "text/plain": [
       "Index(['f0', 'f1', 'f2', 'product'], dtype='object')"
      ]
     },
     "execution_count": 19,
     "metadata": {},
     "output_type": "execute_result"
    }
   ],
   "source": [
    "interval_columns = df_dict['df_rg1'].select_dtypes(exclude=['object']).columns\n",
    "interval_columns"
   ]
  },
  {
   "cell_type": "markdown",
   "metadata": {},
   "source": [
    "Построим матрицы корреляции для всех признаков каждого датафрейма"
   ]
  },
  {
   "cell_type": "code",
   "execution_count": 20,
   "metadata": {
    "scrolled": false
   },
   "outputs": [
    {
     "data": {
      "image/png": "[encoded data removed]",
      "text/plain": [
       "<Figure size 576x432 with 2 Axes>"
      ]
     },
     "metadata": {
      "needs_background": "light"
     },
     "output_type": "display_data"
    },
    {
     "data": {
      "image/png": "[encoded data removed]",
      "text/plain": [
       "<Figure size 576x432 with 2 Axes>"
      ]
     },
     "metadata": {
      "needs_background": "light"
     },
     "output_type": "display_data"
    },
    {
     "data": {
      "image/png": "[encoded data removed]",
      "text/plain": [
       "<Figure size 576x432 with 2 Axes>"
      ]
     },
     "metadata": {
      "needs_background": "light"
     },
     "output_type": "display_data"
    }
   ],
   "source": [
    "for name, df in df_dict.items():\n",
    "    phik_over_view = phik_matrix(df.drop('id', axis=1), interval_cols=interval_columns)\n",
    "    plot_correlation_matrix(\n",
    "        phik_over_view.values,\n",
    "        x_labels=phik_over_view.columns,\n",
    "        y_labels=phik_over_view.index,\n",
    "        vmin=0,vmax=1,color_map='Greens',\n",
    "        title=f'Корреляци {name} $\\phi_K$',\n",
    "        fontsize_factor=1.5,\n",
    "        figsize=(8,6)\n",
    "    )"
   ]
  },
  {
   "cell_type": "markdown",
   "metadata": {},
   "source": [
    "Во втором датафрейме присутвует мультиколлиниарность"
   ]
  },
  {
   "cell_type": "markdown",
   "metadata": {},
   "source": [
    "### Вывод"
   ]
  },
  {
   "cell_type": "markdown",
   "metadata": {},
   "source": [
    "* Библиотеки загружены без ошибок\n",
    "* Датафремы загружены без ошибок и соответсвуют теме исследования\n",
    "* Пропуски и проблемы с типами данных отсутствуют\n",
    "* Явные дубликаты отсутствуют\n",
    "* Неявные дубликаты устранены\n",
    "* Выбросы обнаружены и устранены\n",
    "* При обучении моделей для датафрейма Региона 2 следует использовать методы регуляризации для нивелирования мультиколлинеарности\n",
    "* В виду того, что не известно значение признаков, исследовательский анализ данных считаю применять не целесообразным"
   ]
  },
  {
   "cell_type": "markdown",
   "metadata": {},
   "source": [
    "## Обучение и проверка модели"
   ]
  },
  {
   "cell_type": "markdown",
   "metadata": {},
   "source": [
    "### Подготовка пайплайнов"
   ]
  },
  {
   "cell_type": "markdown",
   "metadata": {},
   "source": [
    "Названия признаков в датафреймах"
   ]
  },
  {
   "cell_type": "code",
   "execution_count": 21,
   "metadata": {},
   "outputs": [],
   "source": [
    "num_columns = ['f0', 'f1', 'f2']"
   ]
  },
  {
   "cell_type": "markdown",
   "metadata": {},
   "source": [
    "Константа случайного значения"
   ]
  },
  {
   "cell_type": "code",
   "execution_count": 22,
   "metadata": {},
   "outputs": [],
   "source": [
    "RANDOM_STATE = 42"
   ]
  },
  {
   "cell_type": "markdown",
   "metadata": {},
   "source": [
    "Пайплайн нормирования числовых признаков, а также пайплайн предобработки и обучения модели"
   ]
  },
  {
   "cell_type": "code",
   "execution_count": 23,
   "metadata": {},
   "outputs": [],
   "source": [
    "data_preprocessor = ColumnTransformer(\n",
    "    [\n",
    "        ('num',\n",
    "         'passthrough', num_columns\n",
    "        )\n",
    "    ], \n",
    "    remainder='passthrough'\n",
    ") \n",
    "\n",
    "pipe_final = Pipeline(\n",
    "    [\n",
    "        (\n",
    "            'preprocessor',\n",
    "            data_preprocessor\n",
    "        ),\n",
    "        (\n",
    "            'models',\n",
    "            DummyRegressor()\n",
    "        )\n",
    "    ]\n",
    ")"
   ]
  },
  {
   "cell_type": "markdown",
   "metadata": {},
   "source": [
    "### Гиперпараметры"
   ]
  },
  {
   "cell_type": "markdown",
   "metadata": {},
   "source": [
    "Здесь представленна дамми модель, которая выдает случайный результат, модель линейной регрессии, а также модель линейной регрессии с регуляризацией l1 и l2"
   ]
  },
  {
   "cell_type": "code",
   "execution_count": 24,
   "metadata": {},
   "outputs": [],
   "source": [
    "param_grid = [\n",
    "    #LinearRegression with l1 and l2\n",
    "    {\n",
    "        'models':[ElasticNet(random_state=RANDOM_STATE)],\n",
    "        'preprocessor__num':[StandardScaler(),'passthrough'],\n",
    "        'models__alpha':[1, 0.5, 0.1],\n",
    "        'models__l1_ratio':[0.1, 0.5, 0.9],\n",
    "    },\n",
    "    \n",
    "    #LinearRegression\n",
    "    {\n",
    "        'models':[LinearRegression()],\n",
    "        'preprocessor__num':[StandardScaler(), 'passthrough'],\n",
    "    },\n",
    "    \n",
    "    #DummyRegressor\n",
    "    {\n",
    "        'models': [DummyRegressor()]\n",
    "    }\n",
    "    \n",
    "]"
   ]
  },
  {
   "cell_type": "markdown",
   "metadata": {},
   "source": [
    "### Подготовка данных"
   ]
  },
  {
   "cell_type": "markdown",
   "metadata": {},
   "source": [
    "Будем хранить все данные о регионах в одном словаре"
   ]
  },
  {
   "cell_type": "code",
   "execution_count": 25,
   "metadata": {},
   "outputs": [],
   "source": [
    "data_dict = {}"
   ]
  },
  {
   "cell_type": "markdown",
   "metadata": {},
   "source": [
    "Разделим данные для каждого региона на тренировочные и валидационные выборки, сбросим индексы валидационной выборки для дальнейшего удобства использования, а также подготовимся к перебору гиперпараметров"
   ]
  },
  {
   "cell_type": "code",
   "execution_count": 26,
   "metadata": {},
   "outputs": [],
   "source": [
    "for name, df in df_dict.items():\n",
    "    data_dict[name] = {'full': df, 'X_train': None, 'y_train': None, 'X_test': None, 'y_test': None, 'grid_search': None}\n",
    "    \n",
    "    X = df.drop(['product'], axis=1)\n",
    "    y = df['product']\n",
    "    \n",
    "    data_dict[name]['X_train'], data_dict[name]['X_valid'], data_dict[name]['y_train'], data_dict[name]['y_valid'] = train_test_split(X, y, test_size=0.25, random_state=RANDOM_STATE)\n",
    "    data_dict[name]['X_valid'] = data_dict[name]['X_valid'].reset_index(drop=True)\n",
    "    data_dict[name]['y_valid'] = data_dict[name]['y_valid'].reset_index(drop=True)\n",
    "    \n",
    "    data_dict[name]['grid_search'] = GridSearchCV(\n",
    "        pipe_final, \n",
    "        param_grid=param_grid, \n",
    "        cv=5,\n",
    "        scoring='neg_root_mean_squared_error',\n",
    "        n_jobs=-1\n",
    "    )"
   ]
  },
  {
   "cell_type": "markdown",
   "metadata": {},
   "source": [
    "### Обучение моделей"
   ]
  },
  {
   "cell_type": "code",
   "execution_count": 27,
   "metadata": {},
   "outputs": [],
   "source": [
    "for name in data_dict.keys():\n",
    "    data_dict[name]['grid_search'].fit(data_dict[name]['X_train'].drop(['id'],axis=1), data_dict[name]['y_train'])\n",
    "    data_dict[name]['y_valid_pred'] = data_dict[name]['grid_search'].best_estimator_.predict(data_dict[name]['X_valid'].drop(['id'],axis=1))\n",
    "    data_dict[name]['y_valid_pred'] = pd.DataFrame(data_dict[name]['y_valid_pred'], columns=['product_pred'])"
   ]
  },
  {
   "cell_type": "markdown",
   "metadata": {},
   "source": [
    "### Результаты обучения моделей"
   ]
  },
  {
   "cell_type": "code",
   "execution_count": 28,
   "metadata": {
    "scrolled": false
   },
   "outputs": [
    {
     "name": "stdout",
     "output_type": "stream",
     "text": [
      "Рейтинг моделей для датасета df_rg1 на тренировочной выборке по метрике RMSE:\n",
      "                                         param_models  mean_test_score\n",
      "18                                 LinearRegression()       -37.696867\n",
      "19                                 LinearRegression()       -37.696867\n",
      "16  ElasticNet(alpha=0.5, l1_ratio=0.9, random_sta...       -37.698408\n",
      "17  ElasticNet(alpha=0.5, l1_ratio=0.9, random_sta...       -37.699409\n",
      "14  ElasticNet(alpha=0.5, l1_ratio=0.9, random_sta...       -37.713801\n",
      "15  ElasticNet(alpha=0.5, l1_ratio=0.9, random_sta...       -37.717769\n",
      "10  ElasticNet(alpha=0.5, l1_ratio=0.9, random_sta...       -37.733445\n",
      "13  ElasticNet(alpha=0.5, l1_ratio=0.9, random_sta...       -37.742948\n",
      "12  ElasticNet(alpha=0.5, l1_ratio=0.9, random_sta...       -37.743197\n",
      "11  ElasticNet(alpha=0.5, l1_ratio=0.9, random_sta...       -37.745494\n",
      "4   ElasticNet(alpha=0.5, l1_ratio=0.9, random_sta...       -37.831164\n",
      "5   ElasticNet(alpha=0.5, l1_ratio=0.9, random_sta...       -37.842373\n",
      "9   ElasticNet(alpha=0.5, l1_ratio=0.9, random_sta...       -37.884039\n",
      "7   ElasticNet(alpha=0.5, l1_ratio=0.9, random_sta...       -37.982310\n",
      "8   ElasticNet(alpha=0.5, l1_ratio=0.9, random_sta...       -37.998830\n",
      "3   ElasticNet(alpha=0.5, l1_ratio=0.9, random_sta...       -38.061147\n",
      "1   ElasticNet(alpha=0.5, l1_ratio=0.9, random_sta...       -38.186383\n",
      "6   ElasticNet(alpha=0.5, l1_ratio=0.9, random_sta...       -38.354350\n",
      "2   ElasticNet(alpha=0.5, l1_ratio=0.9, random_sta...       -38.536860\n",
      "0   ElasticNet(alpha=0.5, l1_ratio=0.9, random_sta...       -39.225200\n",
      "20                                   DummyRegressor()       -44.302592\n",
      "\n",
      "Параметры лучшей модели:\n",
      "• models: LinearRegression()\n",
      "• preprocessor__num: StandardScaler()\n",
      "\n",
      "RMSE на валидационной выборке датасета df_rg1:  37.68508926201444\n",
      "\n",
      "Средний запас предсказанного сырья  датасета df_rg1: 92.60984027552017\n",
      "\n",
      "Средний запас реального сырья  датасета df_rg1: 92.38876593595461\n",
      "------------------------------------------------------------------------------\n",
      "\n",
      "Рейтинг моделей для датасета df_rg2 на тренировочной выборке по метрике RMSE:\n",
      "                                         param_models  mean_test_score\n",
      "18                                 LinearRegression()        -0.889609\n",
      "19                                 LinearRegression()        -0.889609\n",
      "17  ElasticNet(alpha=0.5, l1_ratio=0.9, random_sta...        -0.914322\n",
      "16  ElasticNet(alpha=0.5, l1_ratio=0.9, random_sta...        -1.049956\n",
      "15  ElasticNet(alpha=0.5, l1_ratio=0.9, random_sta...        -1.200856\n",
      "11  ElasticNet(alpha=0.5, l1_ratio=0.9, random_sta...        -1.369799\n",
      "13  ElasticNet(alpha=0.5, l1_ratio=0.9, random_sta...        -1.647673\n",
      "5   ElasticNet(alpha=0.5, l1_ratio=0.9, random_sta...        -2.230633\n",
      "14  ElasticNet(alpha=0.5, l1_ratio=0.9, random_sta...        -2.406970\n",
      "10  ElasticNet(alpha=0.5, l1_ratio=0.9, random_sta...        -2.806660\n",
      "9   ElasticNet(alpha=0.5, l1_ratio=0.9, random_sta...        -3.880659\n",
      "12  ElasticNet(alpha=0.5, l1_ratio=0.9, random_sta...        -3.904181\n",
      "4   ElasticNet(alpha=0.5, l1_ratio=0.9, random_sta...        -5.156261\n",
      "7   ElasticNet(alpha=0.5, l1_ratio=0.9, random_sta...        -6.253197\n",
      "3   ElasticNet(alpha=0.5, l1_ratio=0.9, random_sta...        -7.055781\n",
      "8   ElasticNet(alpha=0.5, l1_ratio=0.9, random_sta...        -9.435328\n",
      "1   ElasticNet(alpha=0.5, l1_ratio=0.9, random_sta...       -10.950019\n",
      "6   ElasticNet(alpha=0.5, l1_ratio=0.9, random_sta...       -14.316234\n",
      "2   ElasticNet(alpha=0.5, l1_ratio=0.9, random_sta...       -15.680428\n",
      "0   ElasticNet(alpha=0.5, l1_ratio=0.9, random_sta...       -21.827341\n",
      "20                                   DummyRegressor()       -45.938225\n",
      "\n",
      "Параметры лучшей модели:\n",
      "• models: LinearRegression()\n",
      "• preprocessor__num: StandardScaler()\n",
      "\n",
      "RMSE на валидационной выборке датасета df_rg2:  0.8928265978121422\n",
      "\n",
      "Средний запас предсказанного сырья  датасета df_rg2: 68.57703454115173\n",
      "\n",
      "Средний запас реального сырья  датасета df_rg2: 68.58361591061642\n",
      "------------------------------------------------------------------------------\n",
      "\n",
      "Рейтинг моделей для датасета df_rg3 на тренировочной выборке по метрике RMSE:\n",
      "                                         param_models  mean_test_score\n",
      "11  ElasticNet(alpha=0.5, l1_ratio=0.9, random_sta...       -40.047571\n",
      "17  ElasticNet(alpha=0.5, l1_ratio=0.9, random_sta...       -40.047621\n",
      "18                                 LinearRegression()       -40.047739\n",
      "19                                 LinearRegression()       -40.047739\n",
      "15  ElasticNet(alpha=0.5, l1_ratio=0.9, random_sta...       -40.047745\n",
      "13  ElasticNet(alpha=0.5, l1_ratio=0.9, random_sta...       -40.047964\n",
      "16  ElasticNet(alpha=0.5, l1_ratio=0.9, random_sta...       -40.048500\n",
      "5   ElasticNet(alpha=0.5, l1_ratio=0.9, random_sta...       -40.049230\n",
      "9   ElasticNet(alpha=0.5, l1_ratio=0.9, random_sta...       -40.050083\n",
      "7   ElasticNet(alpha=0.5, l1_ratio=0.9, random_sta...       -40.054226\n",
      "3   ElasticNet(alpha=0.5, l1_ratio=0.9, random_sta...       -40.057875\n",
      "14  ElasticNet(alpha=0.5, l1_ratio=0.9, random_sta...       -40.060114\n",
      "10  ElasticNet(alpha=0.5, l1_ratio=0.9, random_sta...       -40.070884\n",
      "1   ElasticNet(alpha=0.5, l1_ratio=0.9, random_sta...       -40.072346\n",
      "12  ElasticNet(alpha=0.5, l1_ratio=0.9, random_sta...       -40.082159\n",
      "4   ElasticNet(alpha=0.5, l1_ratio=0.9, random_sta...       -40.133912\n",
      "8   ElasticNet(alpha=0.5, l1_ratio=0.9, random_sta...       -40.267293\n",
      "6   ElasticNet(alpha=0.5, l1_ratio=0.9, random_sta...       -40.532299\n",
      "2   ElasticNet(alpha=0.5, l1_ratio=0.9, random_sta...       -40.655881\n",
      "0   ElasticNet(alpha=0.5, l1_ratio=0.9, random_sta...       -41.167898\n",
      "20                                   DummyRegressor()       -44.776021\n",
      "\n",
      "Параметры лучшей модели:\n",
      "• models: ElasticNet(alpha=0.5, l1_ratio=0.9, random_state=42)\n",
      "• models__alpha: 0.5\n",
      "• models__l1_ratio: 0.9\n",
      "• preprocessor__num: passthrough\n",
      "\n",
      "RMSE на валидационной выборке датасета df_rg3:  40.07966735269009\n",
      "\n",
      "Средний запас предсказанного сырья  датасета df_rg3: 94.93569560777631\n",
      "\n",
      "Средний запас реального сырья  датасета df_rg3: 95.25463671658842\n",
      "------------------------------------------------------------------------------\n",
      "\n"
     ]
    }
   ],
   "source": [
    "for name in data_dict.keys():\n",
    "    result = pd.DataFrame(data_dict[name]['grid_search'].cv_results_)\n",
    "    print(f'Рейтинг моделей для датасета {name} на тренировочной выборке по метрике RMSE:')\n",
    "    print(result[\n",
    "        ['rank_test_score', 'param_models', 'mean_test_score']\n",
    "    ].sort_values('rank_test_score')[['param_models', 'mean_test_score']].head(21))\n",
    "    print(f'\\nПараметры лучшей модели:')\n",
    "    for key, param in result.sort_values('rank_test_score').head(1).reset_index(drop=True)[['params']].loc[0, 'params'].items():\n",
    "        print(f'• {key}: {param}')\n",
    "    print(f'\\nRMSE на валидационной выборке датасета {name}: ', mean_squared_error(np.array(data_dict[name]['y_valid']), np.array(data_dict[name]['y_valid_pred']), squared=False))\n",
    "    print(f'\\nСредний запас предсказанного сырья  датасета {name}:', data_dict[name]['y_valid_pred']['product_pred'].mean(), end='\\n')\n",
    "    print(f'\\nСредний запас реального сырья  датасета {name}:', data_dict[name]['y_valid'].mean(), end='\\n')\n",
    "    print('------------------------------------------------------------------------------\\n')"
   ]
  },
  {
   "cell_type": "markdown",
   "metadata": {},
   "source": [
    "### Вывод"
   ]
  },
  {
   "cell_type": "markdown",
   "metadata": {},
   "source": [
    "* Линейная регрессия плохо справляется с прогнозами в регионе 1 и 3\n",
    "* В регионе 2 мультиколлинеарность удается победить с помощью регуляризации, однако исходная модель справляется лучше и при том без потери точности на валидационной выборке\n",
    "* Средний предсказанный запас сырья и средний реальный очень близки по значению"
   ]
  },
  {
   "cell_type": "markdown",
   "metadata": {},
   "source": [
    "## Подготовка к расчёту прибыли"
   ]
  },
  {
   "cell_type": "markdown",
   "metadata": {},
   "source": [
    "* При разведке региона исследуют 500 точек, из которых с помощью машинного обучения выбирают 200 лучших для разработки.\n",
    "* Бюджет на разработку скважин в регионе — 10 млрд рублей.\n",
    "* При нынешних ценах один баррель сырья приносит 450 рублей дохода. Доход с каждой единицы продукта составляет 450 тыс. рублей, поскольку объём указан в тысячах баррелей.\n",
    "* После оценки рисков нужно оставить лишь те регионы, в которых вероятность убытков меньше 2.5%. Среди них выбирают регион с наибольшей средней прибылью."
   ]
  },
  {
   "cell_type": "markdown",
   "metadata": {},
   "source": [
    "### Сохранение ключевых значений для расчета прибыли"
   ]
  },
  {
   "cell_type": "code",
   "execution_count": 29,
   "metadata": {},
   "outputs": [],
   "source": [
    "NUM_POINTS = 500\n",
    "BEST_POINTS = 200\n",
    "BUDGET = 10_000_000_000\n",
    "INCOME_PER_UNIT = 450000\n",
    "PROBABILITY_OF_LOSS = 0.025"
   ]
  },
  {
   "cell_type": "markdown",
   "metadata": {},
   "source": [
    "###  Рассчет достаточного объёма сырья для безубыточной разработки новой скважины. Сравение полученных объёмов сырья со средним запасом в каждом регионе."
   ]
  },
  {
   "cell_type": "code",
   "execution_count": 30,
   "metadata": {},
   "outputs": [
    {
     "name": "stdout",
     "output_type": "stream",
     "text": [
      "Объёма сырья для безубыточной разработки новой скважины: 111\n"
     ]
    }
   ],
   "source": [
    "sufficient_amount = BUDGET / BEST_POINTS / INCOME_PER_UNIT\n",
    "print('Объёма сырья для безубыточной разработки новой скважины:',round(sufficient_amount))"
   ]
  },
  {
   "cell_type": "code",
   "execution_count": 31,
   "metadata": {
    "scrolled": true
   },
   "outputs": [
    {
     "name": "stdout",
     "output_type": "stream",
     "text": [
      "Средний запас предсказанного сырья  датасета df_rg1: 93\n",
      "Средний запас предсказанного сырья  датасета df_rg2: 69\n",
      "Средний запас предсказанного сырья  датасета df_rg3: 95\n"
     ]
    }
   ],
   "source": [
    "for name in data_dict.keys():\n",
    "    print(f'Средний запас предсказанного сырья  датасета {name}:', round(data_dict[name]['y_valid_pred']['product_pred'].mean()), end='\\n')"
   ]
  },
  {
   "cell_type": "markdown",
   "metadata": {},
   "source": [
    "### Вывод"
   ]
  },
  {
   "cell_type": "markdown",
   "metadata": {},
   "source": [
    "* Средний объем сырья для безубыточной разработки новой скважины превышает фактически предсказанный средний объем, однако при уточнении количества скважин в пользу лучших, я уверен, что проблема будет устранена"
   ]
  },
  {
   "cell_type": "markdown",
   "metadata": {},
   "source": [
    "## Расчёт прибыли и рисков "
   ]
  },
  {
   "cell_type": "markdown",
   "metadata": {},
   "source": [
    "Функция для расчёта прибыли по выбранным скважинам и предсказаниям модели"
   ]
  },
  {
   "cell_type": "code",
   "execution_count": 32,
   "metadata": {},
   "outputs": [],
   "source": [
    "def profit_calculation(points_true, points_pred, count_points=BEST_POINTS, budget=BUDGET, income=INCOME_PER_UNIT):\n",
    "    \n",
    "    index_of_true_points = points_pred.reset_index(drop=True).sort_values(ascending=False)[:count_points].index\n",
    "    sum_production = points_true.reset_index(drop=True)[index_of_true_points].sum()\n",
    "    revenue = sum_production * income\n",
    "    \n",
    "    return round((revenue - budget))"
   ]
  },
  {
   "cell_type": "markdown",
   "metadata": {},
   "source": [
    "Расчет фактической максимальной прибыли для каждого региона"
   ]
  },
  {
   "cell_type": "code",
   "execution_count": 33,
   "metadata": {
    "scrolled": true
   },
   "outputs": [
    {
     "name": "stdout",
     "output_type": "stream",
     "text": [
      "Прибыль для региона df_rg1 по 200 лучшим точкам : 3468529787 р.\n",
      "Прибыль для региона df_rg2 по 200 лучшим точкам : 2415086697 р.\n",
      "Прибыль для региона df_rg3 по 200 лучшим точкам : 2448027879 р.\n"
     ]
    }
   ],
   "source": [
    "for name in data_dict.keys():\n",
    "    total_income = profit_calculation(data_dict[name]['y_valid'],data_dict[name]['y_valid_pred']['product_pred'])\n",
    "    print(f'Прибыль для региона {name} по 200 лучшим точкам :', end=' ')\n",
    "    print(f'{total_income} р.')"
   ]
  },
  {
   "cell_type": "markdown",
   "metadata": {},
   "source": [
    "Функция применения техники bootstrap для оценки средней прибыли, 95%-й доверительного интервала и риска убытков"
   ]
  },
  {
   "cell_type": "code",
   "execution_count": 34,
   "metadata": {
    "scrolled": false
   },
   "outputs": [],
   "source": [
    "def bootstrap_check(points_true, points_pred, n=NUM_POINTS):\n",
    "    rs = np.random.RandomState(12345)\n",
    "    values = []\n",
    "    \n",
    "    for i in range(0,1000):\n",
    "        \n",
    "        subsample_pred = points_pred.sample(n=n, replace=True, random_state=rs)\n",
    "        subsample_true = points_true[subsample_pred.index]\n",
    "        \n",
    "        values.append(profit_calculation(subsample_true, subsample_pred))\n",
    "    \n",
    "    values = pd.Series(values)\n",
    "    print('Средняя прибыль, р.: ', round(values.mean()))\n",
    "    print('95%-й доверительный интервал, р.: [', round(values.quantile(0.025)), ', ', round(values.quantile(0.975)), ']', sep='')        \n",
    "    print('Риск убытков, %: ', round((values < 0).mean() * 100, 2))"
   ]
  },
  {
   "cell_type": "markdown",
   "metadata": {},
   "source": [
    "Применение функции bootstrap_check ко всем регионам в цикле."
   ]
  },
  {
   "cell_type": "code",
   "execution_count": 35,
   "metadata": {
    "scrolled": true
   },
   "outputs": [
    {
     "name": "stdout",
     "output_type": "stream",
     "text": [
      "Техника  bootstrap для датафрейма df_rg1.\n",
      "Средняя прибыль, р.:  417354353\n",
      "95%-й доверительный интервал, р.: [-96261928, 933493096]\n",
      "Риск убытков, %:  5.9\n",
      "----------------------------------------------------------------------\n",
      "\n",
      "Техника  bootstrap для датафрейма df_rg2.\n",
      "Средняя прибыль, р.:  432017870\n",
      "95%-й доверительный интервал, р.: [51741836, 863042250]\n",
      "Риск убытков, %:  1.0\n",
      "----------------------------------------------------------------------\n",
      "\n",
      "Техника  bootstrap для датафрейма df_rg3.\n",
      "Средняя прибыль, р.:  356229805\n",
      "95%-й доверительный интервал, р.: [-183478898, 879977424]\n",
      "Риск убытков, %:  8.5\n",
      "----------------------------------------------------------------------\n",
      "\n"
     ]
    }
   ],
   "source": [
    "for name in data_dict.keys():\n",
    "    print(f'Техника  bootstrap для датафрейма {name}.')\n",
    "    bootstrap_check(data_dict[name]['y_valid'], data_dict[name]['y_valid_pred']['product_pred'])\n",
    "    print('----------------------------------------------------------------------\\n')"
   ]
  },
  {
   "cell_type": "markdown",
   "metadata": {},
   "source": [
    "### Вывод"
   ]
  },
  {
   "cell_type": "markdown",
   "metadata": {},
   "source": [
    "* Для разработки скважин предлагаю регион 2, так как риск убытков по условию меньше 2.5 % а также, потому что среняя ожидаемая прибыль самая высокая среди перечисленных регионов\n",
    "* Регион 1 и 3 имеют риск превышающий допустимый"
   ]
  }
 ],
 "metadata": {
  "ExecuteTimeLog": [
   {
    "duration": 378,
    "start_time": "2024-04-08T13:31:17.312Z"
   },
   {
    "duration": 576,
    "start_time": "2024-04-08T13:35:01.944Z"
   },
   {
    "duration": 141,
    "start_time": "2024-04-08T13:35:10.797Z"
   },
   {
    "duration": 554,
    "start_time": "2024-04-08T13:36:12.429Z"
   },
   {
    "duration": 128,
    "start_time": "2024-04-08T13:36:20.556Z"
   },
   {
    "duration": 135,
    "start_time": "2024-04-08T13:36:27.571Z"
   },
   {
    "duration": 569,
    "start_time": "2024-04-08T13:37:11.409Z"
   },
   {
    "duration": 3,
    "start_time": "2024-04-08T13:38:36.449Z"
   },
   {
    "duration": 34,
    "start_time": "2024-04-08T13:40:23.188Z"
   },
   {
    "duration": 345,
    "start_time": "2024-04-09T13:35:37.610Z"
   },
   {
    "duration": 567,
    "start_time": "2024-04-09T13:35:37.957Z"
   },
   {
    "duration": 506,
    "start_time": "2024-04-09T13:35:38.528Z"
   },
   {
    "duration": 520,
    "start_time": "2024-04-09T13:35:39.036Z"
   },
   {
    "duration": 2,
    "start_time": "2024-04-09T13:35:39.558Z"
   },
   {
    "duration": 33,
    "start_time": "2024-04-09T13:35:39.561Z"
   },
   {
    "duration": 28,
    "start_time": "2024-04-09T13:36:12.273Z"
   },
   {
    "duration": 28,
    "start_time": "2024-04-09T13:36:35.133Z"
   },
   {
    "duration": 28,
    "start_time": "2024-04-09T13:36:42.022Z"
   },
   {
    "duration": 53,
    "start_time": "2024-04-09T13:37:56.759Z"
   },
   {
    "duration": 6,
    "start_time": "2024-04-09T13:38:07.231Z"
   },
   {
    "duration": 5,
    "start_time": "2024-04-09T13:38:15.164Z"
   },
   {
    "duration": 6,
    "start_time": "2024-04-09T13:42:29.484Z"
   },
   {
    "duration": 9,
    "start_time": "2024-04-09T13:42:40.084Z"
   },
   {
    "duration": 41,
    "start_time": "2024-04-09T13:42:58.030Z"
   },
   {
    "duration": 25,
    "start_time": "2024-04-09T13:43:07.931Z"
   },
   {
    "duration": 10,
    "start_time": "2024-04-09T13:44:59.383Z"
   },
   {
    "duration": 6,
    "start_time": "2024-04-09T13:45:06.508Z"
   },
   {
    "duration": 6,
    "start_time": "2024-04-09T13:45:09.372Z"
   },
   {
    "duration": 6,
    "start_time": "2024-04-09T13:45:11.888Z"
   },
   {
    "duration": 7,
    "start_time": "2024-04-09T13:45:18.689Z"
   },
   {
    "duration": 7,
    "start_time": "2024-04-09T13:45:21.769Z"
   },
   {
    "duration": 6,
    "start_time": "2024-04-09T13:45:33.421Z"
   },
   {
    "duration": 6,
    "start_time": "2024-04-09T13:45:40.023Z"
   },
   {
    "duration": 3,
    "start_time": "2024-04-09T13:45:44.148Z"
   },
   {
    "duration": 4,
    "start_time": "2024-04-09T13:46:01.615Z"
   },
   {
    "duration": 2,
    "start_time": "2024-04-09T13:47:25.184Z"
   },
   {
    "duration": 3,
    "start_time": "2024-04-09T13:47:47.569Z"
   },
   {
    "duration": 3,
    "start_time": "2024-04-09T13:47:55.228Z"
   },
   {
    "duration": 3,
    "start_time": "2024-04-09T13:47:56.250Z"
   },
   {
    "duration": 14,
    "start_time": "2024-04-09T13:51:00.508Z"
   },
   {
    "duration": 3,
    "start_time": "2024-04-09T13:51:13.673Z"
   },
   {
    "duration": 27,
    "start_time": "2024-04-09T13:51:46.144Z"
   },
   {
    "duration": 28,
    "start_time": "2024-04-09T13:51:57.748Z"
   },
   {
    "duration": 6,
    "start_time": "2024-04-09T13:53:27.390Z"
   },
   {
    "duration": 72,
    "start_time": "2024-04-09T13:53:43.661Z"
   },
   {
    "duration": 75,
    "start_time": "2024-04-09T13:53:55.472Z"
   },
   {
    "duration": 86,
    "start_time": "2024-04-09T13:54:18.698Z"
   },
   {
    "duration": 82,
    "start_time": "2024-04-09T13:54:40.812Z"
   },
   {
    "duration": 83,
    "start_time": "2024-04-09T13:55:12.163Z"
   },
   {
    "duration": 71,
    "start_time": "2024-04-09T13:55:25.973Z"
   },
   {
    "duration": 73,
    "start_time": "2024-04-09T13:55:32.493Z"
   },
   {
    "duration": 73,
    "start_time": "2024-04-09T13:55:35.227Z"
   },
   {
    "duration": 82,
    "start_time": "2024-04-09T13:56:41.719Z"
   },
   {
    "duration": 73,
    "start_time": "2024-04-09T13:57:10.317Z"
   },
   {
    "duration": 72,
    "start_time": "2024-04-09T13:57:25.777Z"
   },
   {
    "duration": 71,
    "start_time": "2024-04-09T13:57:43.840Z"
   },
   {
    "duration": 6,
    "start_time": "2024-04-09T13:59:41.716Z"
   },
   {
    "duration": 23,
    "start_time": "2024-04-09T13:59:54.236Z"
   },
   {
    "duration": 22,
    "start_time": "2024-04-09T14:00:09.842Z"
   },
   {
    "duration": 8,
    "start_time": "2024-04-09T14:04:26.244Z"
   },
   {
    "duration": 7,
    "start_time": "2024-04-09T14:04:33.106Z"
   },
   {
    "duration": 7,
    "start_time": "2024-04-09T14:04:40.902Z"
   },
   {
    "duration": 7,
    "start_time": "2024-04-09T14:04:51.130Z"
   },
   {
    "duration": 65,
    "start_time": "2024-04-09T14:07:47.030Z"
   },
   {
    "duration": 70,
    "start_time": "2024-04-09T14:08:04.237Z"
   },
   {
    "duration": 4,
    "start_time": "2024-04-09T14:09:13.745Z"
   },
   {
    "duration": 4,
    "start_time": "2024-04-09T14:09:21.653Z"
   },
   {
    "duration": 4281,
    "start_time": "2024-04-09T15:40:52.664Z"
   },
   {
    "duration": 2353,
    "start_time": "2024-04-09T15:41:02.812Z"
   },
   {
    "duration": 2357,
    "start_time": "2024-04-09T15:41:35.602Z"
   },
   {
    "duration": 14,
    "start_time": "2024-04-09T15:45:01.488Z"
   },
   {
    "duration": 8,
    "start_time": "2024-04-09T15:45:24.609Z"
   },
   {
    "duration": 9,
    "start_time": "2024-04-09T15:45:59.282Z"
   },
   {
    "duration": 1977,
    "start_time": "2024-04-09T15:53:47.337Z"
   },
   {
    "duration": 1466,
    "start_time": "2024-04-09T15:54:58.894Z"
   },
   {
    "duration": 1868,
    "start_time": "2024-04-09T15:55:08.782Z"
   },
   {
    "duration": 2239,
    "start_time": "2024-04-09T15:55:21.448Z"
   },
   {
    "duration": 2269,
    "start_time": "2024-04-09T15:55:55.225Z"
   },
   {
    "duration": 15,
    "start_time": "2024-04-09T17:20:46.820Z"
   },
   {
    "duration": 3,
    "start_time": "2024-04-09T17:21:06.928Z"
   },
   {
    "duration": 245,
    "start_time": "2024-04-09T17:21:11.493Z"
   },
   {
    "duration": 118,
    "start_time": "2024-04-09T17:21:30.519Z"
   },
   {
    "duration": 400,
    "start_time": "2024-04-09T17:21:33.698Z"
   },
   {
    "duration": 5,
    "start_time": "2024-04-09T17:29:08.413Z"
   },
   {
    "duration": 5,
    "start_time": "2024-04-09T17:29:27.285Z"
   },
   {
    "duration": 5,
    "start_time": "2024-04-09T17:29:36.802Z"
   },
   {
    "duration": 5,
    "start_time": "2024-04-09T17:38:46.755Z"
   },
   {
    "duration": 5,
    "start_time": "2024-04-09T17:39:38.761Z"
   },
   {
    "duration": 95,
    "start_time": "2024-04-09T18:15:47.527Z"
   },
   {
    "duration": 85,
    "start_time": "2024-04-09T18:16:11.238Z"
   },
   {
    "duration": 118,
    "start_time": "2024-04-09T18:16:57.450Z"
   },
   {
    "duration": 4,
    "start_time": "2024-04-09T18:17:14.779Z"
   },
   {
    "duration": 86,
    "start_time": "2024-04-09T18:23:55.812Z"
   },
   {
    "duration": 4,
    "start_time": "2024-04-09T18:24:07.515Z"
   },
   {
    "duration": 457,
    "start_time": "2024-04-09T18:24:17.759Z"
   },
   {
    "duration": 4,
    "start_time": "2024-04-09T18:25:49.159Z"
   },
   {
    "duration": 14,
    "start_time": "2024-04-09T18:25:50.130Z"
   },
   {
    "duration": 4,
    "start_time": "2024-04-09T18:26:28.209Z"
   },
   {
    "duration": 11,
    "start_time": "2024-04-09T18:26:29.547Z"
   },
   {
    "duration": 4,
    "start_time": "2024-04-09T18:27:15.834Z"
   },
   {
    "duration": 242,
    "start_time": "2024-04-09T18:27:17.244Z"
   },
   {
    "duration": 4,
    "start_time": "2024-04-09T18:28:21.987Z"
   },
   {
    "duration": 319,
    "start_time": "2024-04-09T18:28:22.929Z"
   },
   {
    "duration": 4,
    "start_time": "2024-04-09T18:31:38.886Z"
   },
   {
    "duration": 235,
    "start_time": "2024-04-09T18:31:40.505Z"
   },
   {
    "duration": 6,
    "start_time": "2024-04-09T18:32:02.796Z"
   },
   {
    "duration": 514,
    "start_time": "2024-04-09T18:32:04.489Z"
   },
   {
    "duration": 4,
    "start_time": "2024-04-09T18:32:47.389Z"
   },
   {
    "duration": 237,
    "start_time": "2024-04-09T18:32:48.369Z"
   },
   {
    "duration": 4,
    "start_time": "2024-04-09T18:33:28.964Z"
   },
   {
    "duration": 392,
    "start_time": "2024-04-09T18:33:29.625Z"
   },
   {
    "duration": 1245,
    "start_time": "2024-04-09T18:34:49.498Z"
   },
   {
    "duration": 7,
    "start_time": "2024-04-10T12:36:52.303Z"
   },
   {
    "duration": 1109,
    "start_time": "2024-04-10T12:37:02.941Z"
   },
   {
    "duration": 3312,
    "start_time": "2024-04-10T12:37:04.052Z"
   },
   {
    "duration": 204,
    "start_time": "2024-04-10T12:37:07.368Z"
   },
   {
    "duration": 181,
    "start_time": "2024-04-10T12:37:07.574Z"
   },
   {
    "duration": 185,
    "start_time": "2024-04-10T12:37:07.757Z"
   },
   {
    "duration": 2,
    "start_time": "2024-04-10T12:37:07.944Z"
   },
   {
    "duration": 65,
    "start_time": "2024-04-10T12:37:07.947Z"
   },
   {
    "duration": 75,
    "start_time": "2024-04-10T12:37:08.013Z"
   },
   {
    "duration": 39,
    "start_time": "2024-04-10T12:37:08.089Z"
   },
   {
    "duration": 86,
    "start_time": "2024-04-10T12:37:08.130Z"
   },
   {
    "duration": 3,
    "start_time": "2024-04-10T12:37:08.218Z"
   },
   {
    "duration": 6,
    "start_time": "2024-04-10T12:37:08.222Z"
   },
   {
    "duration": 39,
    "start_time": "2024-04-10T12:37:08.230Z"
   },
   {
    "duration": 1291,
    "start_time": "2024-04-10T12:37:08.270Z"
   },
   {
    "duration": 6,
    "start_time": "2024-04-10T12:37:09.563Z"
   },
   {
    "duration": 2534,
    "start_time": "2024-04-10T12:37:09.570Z"
   },
   {
    "duration": 103,
    "start_time": "2024-04-10T12:38:21.347Z"
   },
   {
    "duration": 3,
    "start_time": "2024-04-10T12:42:24.002Z"
   },
   {
    "duration": 28,
    "start_time": "2024-04-10T12:42:26.130Z"
   },
   {
    "duration": 3,
    "start_time": "2024-04-10T12:43:24.347Z"
   },
   {
    "duration": 403,
    "start_time": "2024-04-10T12:43:26.446Z"
   },
   {
    "duration": 962,
    "start_time": "2024-04-10T12:45:23.683Z"
   },
   {
    "duration": 2419,
    "start_time": "2024-04-10T12:45:24.646Z"
   },
   {
    "duration": 132,
    "start_time": "2024-04-10T12:45:27.066Z"
   },
   {
    "duration": 108,
    "start_time": "2024-04-10T12:45:27.202Z"
   },
   {
    "duration": 107,
    "start_time": "2024-04-10T12:45:27.312Z"
   },
   {
    "duration": 2,
    "start_time": "2024-04-10T12:45:27.421Z"
   },
   {
    "duration": 39,
    "start_time": "2024-04-10T12:45:27.425Z"
   },
   {
    "duration": 81,
    "start_time": "2024-04-10T12:45:27.465Z"
   },
   {
    "duration": 35,
    "start_time": "2024-04-10T12:45:27.548Z"
   },
   {
    "duration": 103,
    "start_time": "2024-04-10T12:45:27.585Z"
   },
   {
    "duration": 14,
    "start_time": "2024-04-10T12:45:27.690Z"
   },
   {
    "duration": 9,
    "start_time": "2024-04-10T12:45:27.706Z"
   },
   {
    "duration": 7,
    "start_time": "2024-04-10T12:45:27.716Z"
   },
   {
    "duration": 1244,
    "start_time": "2024-04-10T12:45:27.725Z"
   },
   {
    "duration": 1426,
    "start_time": "2024-04-10T12:45:28.970Z"
   },
   {
    "duration": 9,
    "start_time": "2024-04-10T12:45:30.397Z"
   },
   {
    "duration": 2329,
    "start_time": "2024-04-10T12:45:30.407Z"
   },
   {
    "duration": 1006,
    "start_time": "2024-04-10T12:46:52.960Z"
   },
   {
    "duration": 2416,
    "start_time": "2024-04-10T12:46:53.968Z"
   },
   {
    "duration": 149,
    "start_time": "2024-04-10T12:46:56.385Z"
   },
   {
    "duration": 106,
    "start_time": "2024-04-10T12:46:56.535Z"
   },
   {
    "duration": 105,
    "start_time": "2024-04-10T12:46:56.643Z"
   },
   {
    "duration": 3,
    "start_time": "2024-04-10T12:46:56.749Z"
   },
   {
    "duration": 50,
    "start_time": "2024-04-10T12:46:56.753Z"
   },
   {
    "duration": 72,
    "start_time": "2024-04-10T12:46:56.805Z"
   },
   {
    "duration": 42,
    "start_time": "2024-04-10T12:46:56.878Z"
   },
   {
    "duration": 86,
    "start_time": "2024-04-10T12:46:56.922Z"
   },
   {
    "duration": 4,
    "start_time": "2024-04-10T12:46:57.009Z"
   },
   {
    "duration": 9,
    "start_time": "2024-04-10T12:46:57.014Z"
   },
   {
    "duration": 5,
    "start_time": "2024-04-10T12:46:57.024Z"
   },
   {
    "duration": 1220,
    "start_time": "2024-04-10T12:46:57.031Z"
   },
   {
    "duration": 55,
    "start_time": "2024-04-10T12:46:58.252Z"
   },
   {
    "duration": 5,
    "start_time": "2024-04-10T12:46:58.309Z"
   },
   {
    "duration": 2392,
    "start_time": "2024-04-10T12:46:58.315Z"
   },
   {
    "duration": 366,
    "start_time": "2024-04-10T12:47:12.381Z"
   },
   {
    "duration": 4,
    "start_time": "2024-04-10T12:56:54.161Z"
   },
   {
    "duration": 1311,
    "start_time": "2024-04-10T12:57:00.497Z"
   },
   {
    "duration": 5,
    "start_time": "2024-04-10T12:57:09.036Z"
   },
   {
    "duration": 2329,
    "start_time": "2024-04-10T12:57:10.076Z"
   },
   {
    "duration": 4,
    "start_time": "2024-04-10T13:01:40.809Z"
   },
   {
    "duration": 8,
    "start_time": "2024-04-10T13:04:24.229Z"
   },
   {
    "duration": 2,
    "start_time": "2024-04-10T13:05:40.947Z"
   },
   {
    "duration": 2,
    "start_time": "2024-04-10T13:05:48.071Z"
   },
   {
    "duration": 195,
    "start_time": "2024-04-10T13:13:12.447Z"
   },
   {
    "duration": 16,
    "start_time": "2024-04-10T13:14:32.989Z"
   },
   {
    "duration": 3,
    "start_time": "2024-04-10T13:15:47.376Z"
   },
   {
    "duration": 95,
    "start_time": "2024-04-10T13:42:45.713Z"
   },
   {
    "duration": 3,
    "start_time": "2024-04-10T13:43:04.823Z"
   },
   {
    "duration": 3,
    "start_time": "2024-04-10T13:43:07.673Z"
   },
   {
    "duration": 3,
    "start_time": "2024-04-10T13:46:32.949Z"
   },
   {
    "duration": 7,
    "start_time": "2024-04-10T13:46:36.225Z"
   },
   {
    "duration": 3,
    "start_time": "2024-04-10T13:46:51.152Z"
   },
   {
    "duration": 4,
    "start_time": "2024-04-10T13:46:52.889Z"
   },
   {
    "duration": 2,
    "start_time": "2024-04-10T13:46:54.166Z"
   },
   {
    "duration": 33859,
    "start_time": "2024-04-10T13:49:18.060Z"
   },
   {
    "duration": 3,
    "start_time": "2024-04-10T14:22:51.774Z"
   },
   {
    "duration": 2,
    "start_time": "2024-04-10T14:22:54.549Z"
   },
   {
    "duration": 18722,
    "start_time": "2024-04-10T14:22:55.485Z"
   },
   {
    "duration": 7,
    "start_time": "2024-04-11T07:36:02.566Z"
   },
   {
    "duration": 2,
    "start_time": "2024-04-11T07:56:13.943Z"
   },
   {
    "duration": 1572,
    "start_time": "2024-04-11T08:03:57.780Z"
   },
   {
    "duration": 3555,
    "start_time": "2024-04-11T08:03:59.354Z"
   },
   {
    "duration": 580,
    "start_time": "2024-04-11T08:04:02.911Z"
   },
   {
    "duration": 515,
    "start_time": "2024-04-11T08:04:03.493Z"
   },
   {
    "duration": 541,
    "start_time": "2024-04-11T08:04:04.010Z"
   },
   {
    "duration": 3,
    "start_time": "2024-04-11T08:04:04.553Z"
   },
   {
    "duration": 64,
    "start_time": "2024-04-11T08:04:04.558Z"
   },
   {
    "duration": 96,
    "start_time": "2024-04-11T08:04:04.623Z"
   },
   {
    "duration": 87,
    "start_time": "2024-04-11T08:04:04.720Z"
   },
   {
    "duration": 85,
    "start_time": "2024-04-11T08:04:04.809Z"
   },
   {
    "duration": 3,
    "start_time": "2024-04-11T08:04:04.896Z"
   },
   {
    "duration": 72,
    "start_time": "2024-04-11T08:04:04.900Z"
   },
   {
    "duration": 45,
    "start_time": "2024-04-11T08:04:04.973Z"
   },
   {
    "duration": 1583,
    "start_time": "2024-04-11T08:04:05.021Z"
   },
   {
    "duration": 48,
    "start_time": "2024-04-11T08:04:06.605Z"
   },
   {
    "duration": 197,
    "start_time": "2024-04-11T08:04:06.654Z"
   },
   {
    "duration": 1406,
    "start_time": "2024-04-11T08:04:06.852Z"
   },
   {
    "duration": 4,
    "start_time": "2024-04-11T08:04:08.259Z"
   },
   {
    "duration": 13,
    "start_time": "2024-04-11T08:04:08.264Z"
   },
   {
    "duration": 2626,
    "start_time": "2024-04-11T08:04:08.278Z"
   },
   {
    "duration": 8,
    "start_time": "2024-04-11T08:04:10.906Z"
   },
   {
    "duration": 53,
    "start_time": "2024-04-11T08:04:10.916Z"
   },
   {
    "duration": 14,
    "start_time": "2024-04-11T08:04:10.971Z"
   },
   {
    "duration": 17,
    "start_time": "2024-04-11T08:04:10.987Z"
   },
   {
    "duration": 13,
    "start_time": "2024-04-11T08:04:11.006Z"
   },
   {
    "duration": 5,
    "start_time": "2024-04-11T08:04:11.020Z"
   },
   {
    "duration": 19,
    "start_time": "2024-04-11T08:04:11.026Z"
   },
   {
    "duration": 110,
    "start_time": "2024-04-11T08:04:11.046Z"
   },
   {
    "duration": 0,
    "start_time": "2024-04-11T08:04:11.158Z"
   },
   {
    "duration": 3,
    "start_time": "2024-04-11T08:04:39.670Z"
   },
   {
    "duration": 38,
    "start_time": "2024-04-11T08:04:44.148Z"
   },
   {
    "duration": 36,
    "start_time": "2024-04-11T08:04:50.240Z"
   },
   {
    "duration": 14,
    "start_time": "2024-04-11T08:05:06.907Z"
   },
   {
    "duration": 11,
    "start_time": "2024-04-11T08:05:21.499Z"
   },
   {
    "duration": 13,
    "start_time": "2024-04-11T08:05:44.993Z"
   },
   {
    "duration": 10,
    "start_time": "2024-04-11T08:05:51.266Z"
   },
   {
    "duration": 10,
    "start_time": "2024-04-11T08:06:23.690Z"
   },
   {
    "duration": 11,
    "start_time": "2024-04-11T08:06:28.700Z"
   },
   {
    "duration": 11,
    "start_time": "2024-04-11T08:06:33.108Z"
   },
   {
    "duration": 11,
    "start_time": "2024-04-11T08:06:37.291Z"
   },
   {
    "duration": 50,
    "start_time": "2024-04-11T08:07:25.515Z"
   },
   {
    "duration": 5,
    "start_time": "2024-04-11T08:07:26.786Z"
   },
   {
    "duration": 5,
    "start_time": "2024-04-11T08:07:38.643Z"
   },
   {
    "duration": 11,
    "start_time": "2024-04-11T08:07:53.001Z"
   },
   {
    "duration": 12,
    "start_time": "2024-04-11T08:11:14.348Z"
   },
   {
    "duration": 14,
    "start_time": "2024-04-11T08:15:11.939Z"
   },
   {
    "duration": 15,
    "start_time": "2024-04-11T08:15:31.426Z"
   },
   {
    "duration": 1284,
    "start_time": "2024-04-11T08:19:46.955Z"
   },
   {
    "duration": 2996,
    "start_time": "2024-04-11T08:19:48.241Z"
   },
   {
    "duration": 150,
    "start_time": "2024-04-11T08:19:51.238Z"
   },
   {
    "duration": 127,
    "start_time": "2024-04-11T08:19:51.390Z"
   },
   {
    "duration": 134,
    "start_time": "2024-04-11T08:19:51.519Z"
   },
   {
    "duration": 3,
    "start_time": "2024-04-11T08:19:51.654Z"
   },
   {
    "duration": 93,
    "start_time": "2024-04-11T08:19:51.658Z"
   },
   {
    "duration": 158,
    "start_time": "2024-04-11T08:19:51.752Z"
   },
   {
    "duration": 36,
    "start_time": "2024-04-11T08:19:51.912Z"
   },
   {
    "duration": 99,
    "start_time": "2024-04-11T08:19:51.950Z"
   },
   {
    "duration": 4,
    "start_time": "2024-04-11T08:19:52.050Z"
   },
   {
    "duration": 55,
    "start_time": "2024-04-11T08:19:52.055Z"
   },
   {
    "duration": 99,
    "start_time": "2024-04-11T08:19:52.111Z"
   },
   {
    "duration": 1550,
    "start_time": "2024-04-11T08:19:52.212Z"
   },
   {
    "duration": 54,
    "start_time": "2024-04-11T08:19:53.763Z"
   },
   {
    "duration": 1325,
    "start_time": "2024-04-11T08:19:53.818Z"
   },
   {
    "duration": 3,
    "start_time": "2024-04-11T08:19:55.145Z"
   },
   {
    "duration": 34,
    "start_time": "2024-04-11T08:19:55.149Z"
   },
   {
    "duration": 42,
    "start_time": "2024-04-11T08:19:55.184Z"
   },
   {
    "duration": 2578,
    "start_time": "2024-04-11T08:19:55.227Z"
   },
   {
    "duration": 8,
    "start_time": "2024-04-11T08:19:57.806Z"
   },
   {
    "duration": 35,
    "start_time": "2024-04-11T08:19:57.815Z"
   },
   {
    "duration": 30,
    "start_time": "2024-04-11T08:19:57.852Z"
   },
   {
    "duration": 47,
    "start_time": "2024-04-11T08:19:57.883Z"
   },
   {
    "duration": 44,
    "start_time": "2024-04-11T08:19:57.932Z"
   },
   {
    "duration": 26,
    "start_time": "2024-04-11T08:19:57.977Z"
   },
   {
    "duration": 37,
    "start_time": "2024-04-11T08:19:58.004Z"
   },
   {
    "duration": 64,
    "start_time": "2024-04-11T08:19:58.042Z"
   },
   {
    "duration": 13,
    "start_time": "2024-04-11T08:19:58.108Z"
   },
   {
    "duration": 21526,
    "start_time": "2024-04-11T08:19:58.122Z"
   },
   {
    "duration": 1385,
    "start_time": "2024-04-11T08:21:00.574Z"
   },
   {
    "duration": 2277,
    "start_time": "2024-04-11T08:21:01.961Z"
   },
   {
    "duration": 158,
    "start_time": "2024-04-11T08:21:04.242Z"
   },
   {
    "duration": 125,
    "start_time": "2024-04-11T08:21:04.402Z"
   },
   {
    "duration": 129,
    "start_time": "2024-04-11T08:21:04.528Z"
   },
   {
    "duration": 2,
    "start_time": "2024-04-11T08:21:04.659Z"
   },
   {
    "duration": 51,
    "start_time": "2024-04-11T08:21:04.662Z"
   },
   {
    "duration": 82,
    "start_time": "2024-04-11T08:21:04.714Z"
   },
   {
    "duration": 36,
    "start_time": "2024-04-11T08:21:04.797Z"
   },
   {
    "duration": 100,
    "start_time": "2024-04-11T08:21:04.835Z"
   },
   {
    "duration": 4,
    "start_time": "2024-04-11T08:21:04.936Z"
   },
   {
    "duration": 33,
    "start_time": "2024-04-11T08:21:04.941Z"
   },
   {
    "duration": 33,
    "start_time": "2024-04-11T08:21:04.977Z"
   },
   {
    "duration": 1441,
    "start_time": "2024-04-11T08:21:05.012Z"
   },
   {
    "duration": 56,
    "start_time": "2024-04-11T08:21:06.454Z"
   },
   {
    "duration": 1272,
    "start_time": "2024-04-11T08:21:06.511Z"
   },
   {
    "duration": 10,
    "start_time": "2024-04-11T08:21:07.785Z"
   },
   {
    "duration": 38,
    "start_time": "2024-04-11T08:21:07.796Z"
   },
   {
    "duration": 21,
    "start_time": "2024-04-11T08:21:07.835Z"
   },
   {
    "duration": 2643,
    "start_time": "2024-04-11T08:21:07.857Z"
   },
   {
    "duration": 8,
    "start_time": "2024-04-11T08:21:10.502Z"
   },
   {
    "duration": 27,
    "start_time": "2024-04-11T08:21:10.511Z"
   },
   {
    "duration": 31,
    "start_time": "2024-04-11T08:21:10.539Z"
   },
   {
    "duration": 13,
    "start_time": "2024-04-11T08:21:10.572Z"
   },
   {
    "duration": 7,
    "start_time": "2024-04-11T08:21:10.587Z"
   },
   {
    "duration": 14,
    "start_time": "2024-04-11T08:21:10.596Z"
   },
   {
    "duration": 11,
    "start_time": "2024-04-11T08:21:10.612Z"
   },
   {
    "duration": 47,
    "start_time": "2024-04-11T08:21:10.624Z"
   },
   {
    "duration": 8,
    "start_time": "2024-04-11T08:21:10.672Z"
   },
   {
    "duration": 22367,
    "start_time": "2024-04-11T08:21:10.681Z"
   },
   {
    "duration": 6,
    "start_time": "2024-04-11T08:23:07.979Z"
   },
   {
    "duration": 110,
    "start_time": "2024-04-11T08:43:00.174Z"
   },
   {
    "duration": 19797,
    "start_time": "2024-04-11T08:43:05.432Z"
   },
   {
    "duration": 3,
    "start_time": "2024-04-11T08:43:55.699Z"
   },
   {
    "duration": 17,
    "start_time": "2024-04-11T08:43:59.211Z"
   },
   {
    "duration": 4,
    "start_time": "2024-04-11T10:11:44.430Z"
   },
   {
    "duration": 13,
    "start_time": "2024-04-11T10:15:04.982Z"
   },
   {
    "duration": 14,
    "start_time": "2024-04-11T10:15:26.881Z"
   },
   {
    "duration": 4,
    "start_time": "2024-04-11T10:16:51.974Z"
   },
   {
    "duration": 2,
    "start_time": "2024-04-11T10:16:56.724Z"
   },
   {
    "duration": 19129,
    "start_time": "2024-04-11T10:17:22.701Z"
   },
   {
    "duration": 12,
    "start_time": "2024-04-11T10:20:23.979Z"
   },
   {
    "duration": 3,
    "start_time": "2024-04-11T10:20:54.717Z"
   },
   {
    "duration": 3,
    "start_time": "2024-04-11T10:21:01.746Z"
   },
   {
    "duration": 15,
    "start_time": "2024-04-11T10:21:43.101Z"
   },
   {
    "duration": 10,
    "start_time": "2024-04-11T10:22:12.223Z"
   },
   {
    "duration": 5,
    "start_time": "2024-04-11T10:22:40.459Z"
   },
   {
    "duration": 1345,
    "start_time": "2024-04-11T10:26:23.026Z"
   },
   {
    "duration": 2401,
    "start_time": "2024-04-11T10:26:24.373Z"
   },
   {
    "duration": 157,
    "start_time": "2024-04-11T10:26:26.776Z"
   },
   {
    "duration": 135,
    "start_time": "2024-04-11T10:26:26.934Z"
   },
   {
    "duration": 136,
    "start_time": "2024-04-11T10:26:27.071Z"
   },
   {
    "duration": 2,
    "start_time": "2024-04-11T10:26:27.209Z"
   },
   {
    "duration": 69,
    "start_time": "2024-04-11T10:26:27.213Z"
   },
   {
    "duration": 96,
    "start_time": "2024-04-11T10:26:27.284Z"
   },
   {
    "duration": 41,
    "start_time": "2024-04-11T10:26:27.381Z"
   },
   {
    "duration": 114,
    "start_time": "2024-04-11T10:26:27.424Z"
   },
   {
    "duration": 4,
    "start_time": "2024-04-11T10:26:27.540Z"
   },
   {
    "duration": 40,
    "start_time": "2024-04-11T10:26:27.545Z"
   },
   {
    "duration": 23,
    "start_time": "2024-04-11T10:26:27.586Z"
   },
   {
    "duration": 1605,
    "start_time": "2024-04-11T10:26:27.613Z"
   },
   {
    "duration": 74,
    "start_time": "2024-04-11T10:26:29.220Z"
   },
   {
    "duration": 1432,
    "start_time": "2024-04-11T10:26:29.295Z"
   },
   {
    "duration": 4,
    "start_time": "2024-04-11T10:26:30.729Z"
   },
   {
    "duration": 39,
    "start_time": "2024-04-11T10:26:30.735Z"
   },
   {
    "duration": 81,
    "start_time": "2024-04-11T10:26:30.776Z"
   },
   {
    "duration": 2957,
    "start_time": "2024-04-11T10:26:30.859Z"
   },
   {
    "duration": 8,
    "start_time": "2024-04-11T10:26:33.819Z"
   },
   {
    "duration": 29,
    "start_time": "2024-04-11T10:26:33.829Z"
   },
   {
    "duration": 27,
    "start_time": "2024-04-11T10:26:33.859Z"
   },
   {
    "duration": 22,
    "start_time": "2024-04-11T10:26:33.888Z"
   },
   {
    "duration": 14,
    "start_time": "2024-04-11T10:26:33.912Z"
   },
   {
    "duration": 10,
    "start_time": "2024-04-11T10:26:33.928Z"
   },
   {
    "duration": 22,
    "start_time": "2024-04-11T10:26:33.939Z"
   },
   {
    "duration": 82,
    "start_time": "2024-04-11T10:26:33.962Z"
   },
   {
    "duration": 0,
    "start_time": "2024-04-11T10:26:34.045Z"
   },
   {
    "duration": 0,
    "start_time": "2024-04-11T10:26:34.047Z"
   },
   {
    "duration": 0,
    "start_time": "2024-04-11T10:26:34.048Z"
   },
   {
    "duration": 0,
    "start_time": "2024-04-11T10:26:34.049Z"
   },
   {
    "duration": 45,
    "start_time": "2024-04-11T10:27:57.555Z"
   },
   {
    "duration": 10,
    "start_time": "2024-04-11T10:27:59.237Z"
   },
   {
    "duration": 19849,
    "start_time": "2024-04-11T10:28:02.586Z"
   },
   {
    "duration": 15,
    "start_time": "2024-04-11T10:28:24.702Z"
   },
   {
    "duration": 10,
    "start_time": "2024-04-11T10:28:26.589Z"
   },
   {
    "duration": 39,
    "start_time": "2024-04-11T15:18:05.154Z"
   },
   {
    "duration": 109,
    "start_time": "2024-04-11T15:18:10.327Z"
   },
   {
    "duration": 11,
    "start_time": "2024-04-11T15:18:16.053Z"
   },
   {
    "duration": 37,
    "start_time": "2024-04-11T15:18:23.241Z"
   },
   {
    "duration": 4,
    "start_time": "2024-04-11T15:19:22.308Z"
   },
   {
    "duration": 1536,
    "start_time": "2024-04-11T15:35:45.206Z"
   },
   {
    "duration": 2473,
    "start_time": "2024-04-11T15:35:46.744Z"
   },
   {
    "duration": 158,
    "start_time": "2024-04-11T15:35:49.219Z"
   },
   {
    "duration": 153,
    "start_time": "2024-04-11T15:35:49.379Z"
   },
   {
    "duration": 140,
    "start_time": "2024-04-11T15:35:49.534Z"
   },
   {
    "duration": 3,
    "start_time": "2024-04-11T15:35:49.675Z"
   },
   {
    "duration": 68,
    "start_time": "2024-04-11T15:35:49.679Z"
   },
   {
    "duration": 92,
    "start_time": "2024-04-11T15:35:49.749Z"
   },
   {
    "duration": 46,
    "start_time": "2024-04-11T15:35:49.842Z"
   },
   {
    "duration": 110,
    "start_time": "2024-04-11T15:35:49.894Z"
   },
   {
    "duration": 4,
    "start_time": "2024-04-11T15:35:50.005Z"
   },
   {
    "duration": 50,
    "start_time": "2024-04-11T15:35:50.011Z"
   },
   {
    "duration": 58,
    "start_time": "2024-04-11T15:35:50.063Z"
   },
   {
    "duration": 1620,
    "start_time": "2024-04-11T15:35:50.124Z"
   },
   {
    "duration": 55,
    "start_time": "2024-04-11T15:35:51.745Z"
   },
   {
    "duration": 1445,
    "start_time": "2024-04-11T15:35:51.801Z"
   },
   {
    "duration": 3,
    "start_time": "2024-04-11T15:35:53.248Z"
   },
   {
    "duration": 25,
    "start_time": "2024-04-11T15:35:53.253Z"
   },
   {
    "duration": 32,
    "start_time": "2024-04-11T15:35:53.279Z"
   },
   {
    "duration": 2810,
    "start_time": "2024-04-11T15:35:53.313Z"
   },
   {
    "duration": 9,
    "start_time": "2024-04-11T15:35:56.125Z"
   },
   {
    "duration": 24,
    "start_time": "2024-04-11T15:35:56.136Z"
   },
   {
    "duration": 10,
    "start_time": "2024-04-11T15:35:56.162Z"
   },
   {
    "duration": 11,
    "start_time": "2024-04-11T15:35:56.174Z"
   },
   {
    "duration": 27,
    "start_time": "2024-04-11T15:35:56.186Z"
   },
   {
    "duration": 18,
    "start_time": "2024-04-11T15:35:56.216Z"
   },
   {
    "duration": 10,
    "start_time": "2024-04-11T15:35:56.236Z"
   },
   {
    "duration": 54,
    "start_time": "2024-04-11T15:35:56.248Z"
   },
   {
    "duration": 54814,
    "start_time": "2024-04-11T15:35:56.304Z"
   },
   {
    "duration": 307,
    "start_time": "2024-04-11T15:36:51.123Z"
   },
   {
    "duration": 0,
    "start_time": "2024-04-11T15:36:51.432Z"
   },
   {
    "duration": 0,
    "start_time": "2024-04-11T15:36:51.433Z"
   },
   {
    "duration": 0,
    "start_time": "2024-04-11T15:36:51.435Z"
   },
   {
    "duration": 1534,
    "start_time": "2024-04-11T15:44:55.088Z"
   },
   {
    "duration": 2497,
    "start_time": "2024-04-11T15:44:56.624Z"
   },
   {
    "duration": 168,
    "start_time": "2024-04-11T15:44:59.123Z"
   },
   {
    "duration": 149,
    "start_time": "2024-04-11T15:44:59.293Z"
   },
   {
    "duration": 138,
    "start_time": "2024-04-11T15:44:59.445Z"
   },
   {
    "duration": 4,
    "start_time": "2024-04-11T15:44:59.584Z"
   },
   {
    "duration": 67,
    "start_time": "2024-04-11T15:44:59.593Z"
   },
   {
    "duration": 92,
    "start_time": "2024-04-11T15:44:59.661Z"
   },
   {
    "duration": 55,
    "start_time": "2024-04-11T15:44:59.755Z"
   },
   {
    "duration": 100,
    "start_time": "2024-04-11T15:44:59.812Z"
   },
   {
    "duration": 4,
    "start_time": "2024-04-11T15:44:59.913Z"
   },
   {
    "duration": 6,
    "start_time": "2024-04-11T15:44:59.918Z"
   },
   {
    "duration": 25,
    "start_time": "2024-04-11T15:44:59.925Z"
   },
   {
    "duration": 1636,
    "start_time": "2024-04-11T15:44:59.954Z"
   },
   {
    "duration": 55,
    "start_time": "2024-04-11T15:45:01.592Z"
   },
   {
    "duration": 1568,
    "start_time": "2024-04-11T15:45:01.648Z"
   },
   {
    "duration": 5,
    "start_time": "2024-04-11T15:45:03.217Z"
   },
   {
    "duration": 120,
    "start_time": "2024-04-11T15:45:03.223Z"
   },
   {
    "duration": 274,
    "start_time": "2024-04-11T15:45:03.345Z"
   },
   {
    "duration": 2999,
    "start_time": "2024-04-11T15:45:03.622Z"
   },
   {
    "duration": 9,
    "start_time": "2024-04-11T15:45:06.622Z"
   },
   {
    "duration": 45,
    "start_time": "2024-04-11T15:45:06.633Z"
   },
   {
    "duration": 70,
    "start_time": "2024-04-11T15:45:06.679Z"
   },
   {
    "duration": 63,
    "start_time": "2024-04-11T15:45:06.751Z"
   },
   {
    "duration": 44,
    "start_time": "2024-04-11T15:45:06.815Z"
   },
   {
    "duration": 50,
    "start_time": "2024-04-11T15:45:06.860Z"
   },
   {
    "duration": 50,
    "start_time": "2024-04-11T15:45:06.912Z"
   },
   {
    "duration": 93,
    "start_time": "2024-04-11T15:45:06.964Z"
   },
   {
    "duration": 54366,
    "start_time": "2024-04-11T15:45:07.058Z"
   },
   {
    "duration": 295,
    "start_time": "2024-04-11T15:46:01.426Z"
   },
   {
    "duration": 0,
    "start_time": "2024-04-11T15:46:01.723Z"
   },
   {
    "duration": 0,
    "start_time": "2024-04-11T15:46:01.724Z"
   },
   {
    "duration": 0,
    "start_time": "2024-04-11T15:46:01.725Z"
   },
   {
    "duration": 32,
    "start_time": "2024-04-11T15:48:12.474Z"
   },
   {
    "duration": 33,
    "start_time": "2024-04-11T15:48:21.402Z"
   },
   {
    "duration": 19,
    "start_time": "2024-04-11T15:49:23.183Z"
   },
   {
    "duration": 4,
    "start_time": "2024-04-11T15:49:39.104Z"
   },
   {
    "duration": 32,
    "start_time": "2024-04-11T15:49:45.473Z"
   },
   {
    "duration": 4,
    "start_time": "2024-04-11T15:52:11.831Z"
   },
   {
    "duration": 4,
    "start_time": "2024-04-11T15:52:28.174Z"
   },
   {
    "duration": 5,
    "start_time": "2024-04-11T15:52:45.080Z"
   },
   {
    "duration": 7,
    "start_time": "2024-04-11T15:52:46.445Z"
   },
   {
    "duration": 5,
    "start_time": "2024-04-11T15:53:29.112Z"
   },
   {
    "duration": 5,
    "start_time": "2024-04-11T16:43:33.236Z"
   },
   {
    "duration": 12,
    "start_time": "2024-04-11T16:44:19.869Z"
   },
   {
    "duration": 5,
    "start_time": "2024-04-11T16:44:26.157Z"
   },
   {
    "duration": 1320,
    "start_time": "2024-04-11T18:03:00.002Z"
   },
   {
    "duration": 2361,
    "start_time": "2024-04-11T18:03:01.323Z"
   },
   {
    "duration": 155,
    "start_time": "2024-04-11T18:03:03.686Z"
   },
   {
    "duration": 125,
    "start_time": "2024-04-11T18:03:03.843Z"
   },
   {
    "duration": 137,
    "start_time": "2024-04-11T18:03:03.970Z"
   },
   {
    "duration": 3,
    "start_time": "2024-04-11T18:03:04.109Z"
   },
   {
    "duration": 69,
    "start_time": "2024-04-11T18:03:04.114Z"
   },
   {
    "duration": 83,
    "start_time": "2024-04-11T18:03:04.185Z"
   },
   {
    "duration": 44,
    "start_time": "2024-04-11T18:03:04.270Z"
   },
   {
    "duration": 114,
    "start_time": "2024-04-11T18:03:04.316Z"
   },
   {
    "duration": 9,
    "start_time": "2024-04-11T18:03:04.432Z"
   },
   {
    "duration": 7,
    "start_time": "2024-04-11T18:03:04.444Z"
   },
   {
    "duration": 28,
    "start_time": "2024-04-11T18:03:04.453Z"
   },
   {
    "duration": 1606,
    "start_time": "2024-04-11T18:03:04.485Z"
   },
   {
    "duration": 50,
    "start_time": "2024-04-11T18:03:06.093Z"
   },
   {
    "duration": 1629,
    "start_time": "2024-04-11T18:03:06.144Z"
   },
   {
    "duration": 4,
    "start_time": "2024-04-11T18:03:07.774Z"
   },
   {
    "duration": 18,
    "start_time": "2024-04-11T18:03:07.780Z"
   },
   {
    "duration": 7,
    "start_time": "2024-04-11T18:03:07.800Z"
   },
   {
    "duration": 2605,
    "start_time": "2024-04-11T18:03:07.808Z"
   },
   {
    "duration": 9,
    "start_time": "2024-04-11T18:03:10.414Z"
   },
   {
    "duration": 21,
    "start_time": "2024-04-11T18:03:10.425Z"
   },
   {
    "duration": 22,
    "start_time": "2024-04-11T18:03:10.448Z"
   },
   {
    "duration": 10,
    "start_time": "2024-04-11T18:03:10.472Z"
   },
   {
    "duration": 15,
    "start_time": "2024-04-11T18:03:10.483Z"
   },
   {
    "duration": 11,
    "start_time": "2024-04-11T18:03:10.499Z"
   },
   {
    "duration": 7,
    "start_time": "2024-04-11T18:03:10.512Z"
   },
   {
    "duration": 53,
    "start_time": "2024-04-11T18:03:10.521Z"
   },
   {
    "duration": 59017,
    "start_time": "2024-04-11T18:03:10.576Z"
   },
   {
    "duration": 125,
    "start_time": "2024-04-11T18:04:09.596Z"
   },
   {
    "duration": 13,
    "start_time": "2024-04-11T18:04:09.722Z"
   },
   {
    "duration": 15,
    "start_time": "2024-04-11T18:04:09.737Z"
   },
   {
    "duration": 11,
    "start_time": "2024-04-11T18:04:09.753Z"
   },
   {
    "duration": 1716,
    "start_time": "2024-04-14T17:21:17.424Z"
   },
   {
    "duration": 3574,
    "start_time": "2024-04-14T17:21:19.141Z"
   },
   {
    "duration": 255,
    "start_time": "2024-04-14T17:21:22.719Z"
   },
   {
    "duration": 221,
    "start_time": "2024-04-14T17:21:22.976Z"
   },
   {
    "duration": 234,
    "start_time": "2024-04-14T17:21:23.199Z"
   },
   {
    "duration": 3,
    "start_time": "2024-04-14T17:21:23.434Z"
   },
   {
    "duration": 49,
    "start_time": "2024-04-14T17:21:23.438Z"
   },
   {
    "duration": 105,
    "start_time": "2024-04-14T17:21:23.488Z"
   },
   {
    "duration": 59,
    "start_time": "2024-04-14T17:21:23.596Z"
   },
   {
    "duration": 136,
    "start_time": "2024-04-14T17:21:23.658Z"
   },
   {
    "duration": 4,
    "start_time": "2024-04-14T17:21:23.796Z"
   },
   {
    "duration": 28,
    "start_time": "2024-04-14T17:21:23.802Z"
   },
   {
    "duration": 11,
    "start_time": "2024-04-14T17:21:23.835Z"
   },
   {
    "duration": 1623,
    "start_time": "2024-04-14T17:21:23.847Z"
   },
   {
    "duration": 69,
    "start_time": "2024-04-14T17:21:25.471Z"
   },
   {
    "duration": 1529,
    "start_time": "2024-04-14T17:21:25.542Z"
   },
   {
    "duration": 4,
    "start_time": "2024-04-14T17:21:27.074Z"
   },
   {
    "duration": 22,
    "start_time": "2024-04-14T17:21:27.079Z"
   },
   {
    "duration": 15,
    "start_time": "2024-04-14T17:21:27.103Z"
   },
   {
    "duration": 2865,
    "start_time": "2024-04-14T17:21:27.120Z"
   },
   {
    "duration": 10,
    "start_time": "2024-04-14T17:21:29.987Z"
   },
   {
    "duration": 96,
    "start_time": "2024-04-14T17:21:29.999Z"
   },
   {
    "duration": 32,
    "start_time": "2024-04-14T17:21:30.097Z"
   },
   {
    "duration": 145,
    "start_time": "2024-04-14T17:21:30.131Z"
   },
   {
    "duration": 426,
    "start_time": "2024-04-14T17:21:30.278Z"
   },
   {
    "duration": 203,
    "start_time": "2024-04-14T17:21:30.706Z"
   },
   {
    "duration": 111,
    "start_time": "2024-04-14T17:21:30.911Z"
   },
   {
    "duration": 421,
    "start_time": "2024-04-14T17:21:31.025Z"
   },
   {
    "duration": 61124,
    "start_time": "2024-04-14T17:21:31.448Z"
   },
   {
    "duration": 1185,
    "start_time": "2024-04-14T17:22:32.575Z"
   },
   {
    "duration": 0,
    "start_time": "2024-04-14T17:22:33.762Z"
   },
   {
    "duration": 0,
    "start_time": "2024-04-14T17:22:33.764Z"
   },
   {
    "duration": 0,
    "start_time": "2024-04-14T17:22:33.766Z"
   },
   {
    "duration": 905,
    "start_time": "2024-04-14T17:24:18.234Z"
   },
   {
    "duration": 41,
    "start_time": "2024-04-14T17:24:46.174Z"
   },
   {
    "duration": 44,
    "start_time": "2024-04-14T17:25:08.950Z"
   },
   {
    "duration": 24,
    "start_time": "2024-04-14T17:31:22.947Z"
   },
   {
    "duration": 62,
    "start_time": "2024-04-14T17:31:59.657Z"
   },
   {
    "duration": 888,
    "start_time": "2024-04-14T17:32:13.750Z"
   },
   {
    "duration": 42,
    "start_time": "2024-04-14T17:32:46.482Z"
   },
   {
    "duration": 100,
    "start_time": "2024-04-14T17:33:01.126Z"
   },
   {
    "duration": 55,
    "start_time": "2024-04-14T17:33:07.947Z"
   },
   {
    "duration": 39,
    "start_time": "2024-04-14T17:33:10.805Z"
   },
   {
    "duration": 43,
    "start_time": "2024-04-14T17:33:58.239Z"
   },
   {
    "duration": 940,
    "start_time": "2024-04-14T17:34:07.851Z"
   },
   {
    "duration": 1027,
    "start_time": "2024-04-14T17:34:44.358Z"
   },
   {
    "duration": 37,
    "start_time": "2024-04-14T17:34:54.308Z"
   },
   {
    "duration": 44,
    "start_time": "2024-04-14T17:35:02.062Z"
   },
   {
    "duration": 44,
    "start_time": "2024-04-14T17:35:47.108Z"
   },
   {
    "duration": 47,
    "start_time": "2024-04-14T17:36:08.581Z"
   },
   {
    "duration": 5,
    "start_time": "2024-04-14T17:37:28.148Z"
   },
   {
    "duration": 20,
    "start_time": "2024-04-14T17:37:43.896Z"
   },
   {
    "duration": 20,
    "start_time": "2024-04-14T17:38:26.173Z"
   },
   {
    "duration": 21,
    "start_time": "2024-04-14T17:38:33.927Z"
   },
   {
    "duration": 43,
    "start_time": "2024-04-14T17:40:27.875Z"
   },
   {
    "duration": 9,
    "start_time": "2024-04-14T17:41:11.677Z"
   },
   {
    "duration": 20,
    "start_time": "2024-04-14T17:41:20.026Z"
   },
   {
    "duration": 22,
    "start_time": "2024-04-14T17:41:45.094Z"
   },
   {
    "duration": 20,
    "start_time": "2024-04-14T17:42:34.389Z"
   },
   {
    "duration": 9,
    "start_time": "2024-04-14T17:42:48.352Z"
   },
   {
    "duration": 9,
    "start_time": "2024-04-14T17:43:11.539Z"
   },
   {
    "duration": 11,
    "start_time": "2024-04-14T17:43:22.189Z"
   },
   {
    "duration": 7,
    "start_time": "2024-04-14T17:43:32.542Z"
   },
   {
    "duration": 5,
    "start_time": "2024-04-14T17:44:16.597Z"
   },
   {
    "duration": 7,
    "start_time": "2024-04-14T17:44:32.475Z"
   },
   {
    "duration": 24,
    "start_time": "2024-04-14T17:45:21.843Z"
   },
   {
    "duration": 39,
    "start_time": "2024-04-14T17:47:06.194Z"
   },
   {
    "duration": 43,
    "start_time": "2024-04-14T17:47:50.283Z"
   },
   {
    "duration": 41,
    "start_time": "2024-04-14T17:48:18.491Z"
   },
   {
    "duration": 42,
    "start_time": "2024-04-14T17:49:04.196Z"
   },
   {
    "duration": 80,
    "start_time": "2024-04-14T17:49:16.339Z"
   },
   {
    "duration": 3,
    "start_time": "2024-04-14T18:18:13.095Z"
   },
   {
    "duration": 4,
    "start_time": "2024-04-14T18:22:34.583Z"
   },
   {
    "duration": 5,
    "start_time": "2024-04-14T18:23:39.203Z"
   },
   {
    "duration": 5,
    "start_time": "2024-04-14T18:24:49.481Z"
   },
   {
    "duration": 3,
    "start_time": "2024-04-14T18:25:00.968Z"
   },
   {
    "duration": 6,
    "start_time": "2024-04-14T18:27:10.404Z"
   },
   {
    "duration": 14,
    "start_time": "2024-04-14T18:33:21.645Z"
   },
   {
    "duration": 18,
    "start_time": "2024-04-14T18:34:06.103Z"
   },
   {
    "duration": 11,
    "start_time": "2024-04-14T18:34:22.986Z"
   },
   {
    "duration": 22,
    "start_time": "2024-04-14T18:34:46.883Z"
   },
   {
    "duration": 14,
    "start_time": "2024-04-14T18:36:34.823Z"
   },
   {
    "duration": 58,
    "start_time": "2024-04-14T18:37:48.946Z"
   },
   {
    "duration": 14,
    "start_time": "2024-04-14T18:38:34.279Z"
   },
   {
    "duration": 16,
    "start_time": "2024-04-14T18:39:49.156Z"
   },
   {
    "duration": 16,
    "start_time": "2024-04-14T18:40:26.222Z"
   },
   {
    "duration": 16,
    "start_time": "2024-04-14T18:40:43.177Z"
   },
   {
    "duration": 11,
    "start_time": "2024-04-14T18:41:38.679Z"
   },
   {
    "duration": 12,
    "start_time": "2024-04-14T18:44:49.593Z"
   },
   {
    "duration": 10,
    "start_time": "2024-04-14T18:44:53.821Z"
   },
   {
    "duration": 12,
    "start_time": "2024-04-14T18:45:05.890Z"
   },
   {
    "duration": 1834,
    "start_time": "2024-04-15T14:50:15.601Z"
   },
   {
    "duration": 3549,
    "start_time": "2024-04-15T14:50:17.437Z"
   },
   {
    "duration": 592,
    "start_time": "2024-04-15T14:50:20.987Z"
   },
   {
    "duration": 524,
    "start_time": "2024-04-15T14:50:21.580Z"
   },
   {
    "duration": 536,
    "start_time": "2024-04-15T14:50:22.106Z"
   },
   {
    "duration": 3,
    "start_time": "2024-04-15T14:50:22.644Z"
   },
   {
    "duration": 42,
    "start_time": "2024-04-15T14:50:22.648Z"
   },
   {
    "duration": 87,
    "start_time": "2024-04-15T14:50:22.691Z"
   },
   {
    "duration": 45,
    "start_time": "2024-04-15T14:50:22.780Z"
   },
   {
    "duration": 113,
    "start_time": "2024-04-15T14:50:22.826Z"
   },
   {
    "duration": 4,
    "start_time": "2024-04-15T14:50:22.941Z"
   },
   {
    "duration": 14,
    "start_time": "2024-04-15T14:50:22.946Z"
   },
   {
    "duration": 16,
    "start_time": "2024-04-15T14:50:22.962Z"
   },
   {
    "duration": 1563,
    "start_time": "2024-04-15T14:50:22.981Z"
   },
   {
    "duration": 61,
    "start_time": "2024-04-15T14:50:24.546Z"
   },
   {
    "duration": 1429,
    "start_time": "2024-04-15T14:50:24.608Z"
   },
   {
    "duration": 3,
    "start_time": "2024-04-15T14:50:26.039Z"
   },
   {
    "duration": 38,
    "start_time": "2024-04-15T14:50:26.043Z"
   },
   {
    "duration": 9,
    "start_time": "2024-04-15T14:50:26.083Z"
   },
   {
    "duration": 2800,
    "start_time": "2024-04-15T14:50:26.094Z"
   },
   {
    "duration": 3,
    "start_time": "2024-04-15T14:50:28.897Z"
   },
   {
    "duration": 22,
    "start_time": "2024-04-15T14:50:28.901Z"
   },
   {
    "duration": 15,
    "start_time": "2024-04-15T14:50:28.924Z"
   },
   {
    "duration": 5,
    "start_time": "2024-04-15T14:50:28.940Z"
   },
   {
    "duration": 3,
    "start_time": "2024-04-15T14:50:28.947Z"
   },
   {
    "duration": 16,
    "start_time": "2024-04-15T14:50:28.952Z"
   },
   {
    "duration": 48,
    "start_time": "2024-04-15T14:50:28.971Z"
   },
   {
    "duration": 54470,
    "start_time": "2024-04-15T14:50:29.021Z"
   },
   {
    "duration": 196,
    "start_time": "2024-04-15T14:51:23.493Z"
   },
   {
    "duration": 3,
    "start_time": "2024-04-15T14:51:23.691Z"
   },
   {
    "duration": 5,
    "start_time": "2024-04-15T14:51:23.696Z"
   },
   {
    "duration": 13,
    "start_time": "2024-04-15T14:51:23.702Z"
   },
   {
    "duration": 15,
    "start_time": "2024-04-15T14:51:23.717Z"
   },
   {
    "duration": 42,
    "start_time": "2024-04-15T14:51:23.733Z"
   },
   {
    "duration": 4,
    "start_time": "2024-04-15T15:11:16.508Z"
   },
   {
    "duration": 12,
    "start_time": "2024-04-15T15:12:47.315Z"
   },
   {
    "duration": 3,
    "start_time": "2024-04-15T15:13:27.188Z"
   },
   {
    "duration": 11,
    "start_time": "2024-04-15T15:13:29.072Z"
   },
   {
    "duration": 4,
    "start_time": "2024-04-15T15:13:37.800Z"
   },
   {
    "duration": 11,
    "start_time": "2024-04-15T15:13:39.549Z"
   },
   {
    "duration": 3,
    "start_time": "2024-04-15T15:13:51.116Z"
   },
   {
    "duration": 12,
    "start_time": "2024-04-15T15:13:52.513Z"
   },
   {
    "duration": 3,
    "start_time": "2024-04-15T15:13:58.530Z"
   },
   {
    "duration": 11,
    "start_time": "2024-04-15T15:13:59.992Z"
   },
   {
    "duration": 12,
    "start_time": "2024-04-15T15:14:30.338Z"
   },
   {
    "duration": 4,
    "start_time": "2024-04-15T15:53:46.872Z"
   },
   {
    "duration": 112,
    "start_time": "2024-04-15T15:53:48.396Z"
   },
   {
    "duration": 17,
    "start_time": "2024-04-15T15:54:05.725Z"
   },
   {
    "duration": 3,
    "start_time": "2024-04-15T15:54:49.720Z"
   },
   {
    "duration": 13,
    "start_time": "2024-04-15T15:54:51.793Z"
   },
   {
    "duration": 5,
    "start_time": "2024-04-15T16:18:56.002Z"
   },
   {
    "duration": 17,
    "start_time": "2024-04-15T16:21:07.811Z"
   },
   {
    "duration": 10,
    "start_time": "2024-04-15T16:21:27.163Z"
   },
   {
    "duration": 5,
    "start_time": "2024-04-15T16:21:29.238Z"
   },
   {
    "duration": 1142,
    "start_time": "2024-04-15T16:21:30.200Z"
   },
   {
    "duration": 5,
    "start_time": "2024-04-15T16:21:53.772Z"
   },
   {
    "duration": 3301,
    "start_time": "2024-04-15T16:21:55.615Z"
   },
   {
    "duration": 5,
    "start_time": "2024-04-15T16:22:55.356Z"
   },
   {
    "duration": 3322,
    "start_time": "2024-04-15T16:22:57.165Z"
   },
   {
    "duration": 4,
    "start_time": "2024-04-15T16:23:07.887Z"
   },
   {
    "duration": 3297,
    "start_time": "2024-04-15T16:23:14.843Z"
   },
   {
    "duration": 3386,
    "start_time": "2024-04-15T16:23:24.002Z"
   },
   {
    "duration": 3322,
    "start_time": "2024-04-15T16:23:30.908Z"
   },
   {
    "duration": 3231,
    "start_time": "2024-04-15T16:23:34.940Z"
   },
   {
    "duration": 5,
    "start_time": "2024-04-15T16:24:26.971Z"
   },
   {
    "duration": 3326,
    "start_time": "2024-04-15T16:24:28.596Z"
   },
   {
    "duration": 5,
    "start_time": "2024-04-15T16:25:22.670Z"
   },
   {
    "duration": 3348,
    "start_time": "2024-04-15T16:25:24.458Z"
   },
   {
    "duration": 5,
    "start_time": "2024-04-15T16:25:43.387Z"
   },
   {
    "duration": 3331,
    "start_time": "2024-04-15T16:25:45.321Z"
   },
   {
    "duration": 78,
    "start_time": "2024-04-15T16:27:29.119Z"
   },
   {
    "duration": 5,
    "start_time": "2024-04-15T16:27:32.322Z"
   },
   {
    "duration": 3282,
    "start_time": "2024-04-15T16:27:34.081Z"
   },
   {
    "duration": 1335,
    "start_time": "2024-04-15T16:46:03.911Z"
   },
   {
    "duration": 34,
    "start_time": "2024-04-15T17:18:06.226Z"
   },
   {
    "duration": 42,
    "start_time": "2024-04-15T17:18:14.549Z"
   },
   {
    "duration": 1429,
    "start_time": "2024-04-15T17:39:52.681Z"
   },
   {
    "duration": 2400,
    "start_time": "2024-04-15T17:39:54.111Z"
   },
   {
    "duration": 157,
    "start_time": "2024-04-15T17:39:56.512Z"
   },
   {
    "duration": 141,
    "start_time": "2024-04-15T17:39:56.671Z"
   },
   {
    "duration": 134,
    "start_time": "2024-04-15T17:39:56.813Z"
   },
   {
    "duration": 3,
    "start_time": "2024-04-15T17:39:56.949Z"
   },
   {
    "duration": 55,
    "start_time": "2024-04-15T17:39:56.953Z"
   },
   {
    "duration": 99,
    "start_time": "2024-04-15T17:39:57.010Z"
   },
   {
    "duration": 39,
    "start_time": "2024-04-15T17:39:57.111Z"
   },
   {
    "duration": 94,
    "start_time": "2024-04-15T17:39:57.152Z"
   },
   {
    "duration": 4,
    "start_time": "2024-04-15T17:39:57.259Z"
   },
   {
    "duration": 13,
    "start_time": "2024-04-15T17:39:57.265Z"
   },
   {
    "duration": 11,
    "start_time": "2024-04-15T17:39:57.280Z"
   },
   {
    "duration": 1534,
    "start_time": "2024-04-15T17:39:57.292Z"
   },
   {
    "duration": 60,
    "start_time": "2024-04-15T17:39:58.828Z"
   },
   {
    "duration": 1411,
    "start_time": "2024-04-15T17:39:58.890Z"
   },
   {
    "duration": 4,
    "start_time": "2024-04-15T17:40:00.302Z"
   },
   {
    "duration": 145,
    "start_time": "2024-04-15T17:40:00.307Z"
   },
   {
    "duration": 65,
    "start_time": "2024-04-15T17:40:00.454Z"
   },
   {
    "duration": 2855,
    "start_time": "2024-04-15T17:40:00.520Z"
   },
   {
    "duration": 3,
    "start_time": "2024-04-15T17:40:03.377Z"
   },
   {
    "duration": 93,
    "start_time": "2024-04-15T17:40:03.381Z"
   },
   {
    "duration": 10,
    "start_time": "2024-04-15T17:40:03.477Z"
   },
   {
    "duration": 14,
    "start_time": "2024-04-15T17:40:03.490Z"
   },
   {
    "duration": 39,
    "start_time": "2024-04-15T17:40:03.506Z"
   },
   {
    "duration": 71,
    "start_time": "2024-04-15T17:40:03.547Z"
   },
   {
    "duration": 64260,
    "start_time": "2024-04-15T17:40:03.620Z"
   },
   {
    "duration": 202,
    "start_time": "2024-04-15T17:41:07.884Z"
   },
   {
    "duration": 2,
    "start_time": "2024-04-15T17:41:08.087Z"
   },
   {
    "duration": 11,
    "start_time": "2024-04-15T17:41:08.091Z"
   },
   {
    "duration": 5,
    "start_time": "2024-04-15T17:41:08.103Z"
   },
   {
    "duration": 7,
    "start_time": "2024-04-15T17:41:08.109Z"
   },
   {
    "duration": 24,
    "start_time": "2024-04-15T17:41:08.117Z"
   },
   {
    "duration": 18,
    "start_time": "2024-04-15T17:41:08.142Z"
   },
   {
    "duration": 3420,
    "start_time": "2024-04-15T17:41:08.161Z"
   },
   {
    "duration": 4240,
    "start_time": "2024-04-15T19:42:53.390Z"
   },
   {
    "duration": 8193,
    "start_time": "2024-04-15T19:42:57.633Z"
   },
   {
    "duration": 243,
    "start_time": "2024-04-15T19:43:05.828Z"
   },
   {
    "duration": 208,
    "start_time": "2024-04-15T19:43:06.073Z"
   },
   {
    "duration": 209,
    "start_time": "2024-04-15T19:43:06.283Z"
   },
   {
    "duration": 2,
    "start_time": "2024-04-15T19:43:06.494Z"
   },
   {
    "duration": 39,
    "start_time": "2024-04-15T19:43:06.498Z"
   },
   {
    "duration": 62,
    "start_time": "2024-04-15T19:43:06.539Z"
   },
   {
    "duration": 51,
    "start_time": "2024-04-15T19:43:06.602Z"
   },
   {
    "duration": 82,
    "start_time": "2024-04-15T19:43:06.656Z"
   },
   {
    "duration": 4,
    "start_time": "2024-04-15T19:43:06.740Z"
   },
   {
    "duration": 11,
    "start_time": "2024-04-15T19:43:06.746Z"
   },
   {
    "duration": 8,
    "start_time": "2024-04-15T19:43:06.758Z"
   },
   {
    "duration": 1705,
    "start_time": "2024-04-15T19:43:06.768Z"
   },
   {
    "duration": 79,
    "start_time": "2024-04-15T19:43:08.476Z"
   },
   {
    "duration": 1705,
    "start_time": "2024-04-15T19:43:08.558Z"
   },
   {
    "duration": 3,
    "start_time": "2024-04-15T19:43:10.265Z"
   },
   {
    "duration": 31,
    "start_time": "2024-04-15T19:43:10.271Z"
   },
   {
    "duration": 7,
    "start_time": "2024-04-15T19:43:10.305Z"
   },
   {
    "duration": 2506,
    "start_time": "2024-04-15T19:43:10.314Z"
   },
   {
    "duration": 3,
    "start_time": "2024-04-15T19:43:12.822Z"
   },
   {
    "duration": 8,
    "start_time": "2024-04-15T19:43:12.826Z"
   },
   {
    "duration": 13,
    "start_time": "2024-04-15T19:43:12.836Z"
   },
   {
    "duration": 5,
    "start_time": "2024-04-15T19:43:12.851Z"
   },
   {
    "duration": 5,
    "start_time": "2024-04-15T19:43:12.858Z"
   },
   {
    "duration": 63,
    "start_time": "2024-04-15T19:43:12.865Z"
   },
   {
    "duration": 59716,
    "start_time": "2024-04-15T19:43:12.930Z"
   },
   {
    "duration": 129,
    "start_time": "2024-04-15T19:44:12.722Z"
   },
   {
    "duration": 3,
    "start_time": "2024-04-15T19:44:12.853Z"
   },
   {
    "duration": 5,
    "start_time": "2024-04-15T19:44:12.857Z"
   },
   {
    "duration": 6,
    "start_time": "2024-04-15T19:44:12.864Z"
   },
   {
    "duration": 4,
    "start_time": "2024-04-15T19:44:12.872Z"
   },
   {
    "duration": 42,
    "start_time": "2024-04-15T19:44:12.878Z"
   },
   {
    "duration": 5,
    "start_time": "2024-04-15T19:44:12.922Z"
   },
   {
    "duration": 3216,
    "start_time": "2024-04-15T19:44:12.929Z"
   },
   {
    "duration": 1630,
    "start_time": "2024-04-16T06:39:02.673Z"
   },
   {
    "duration": 3908,
    "start_time": "2024-04-16T06:39:04.306Z"
   },
   {
    "duration": 619,
    "start_time": "2024-04-16T06:39:08.216Z"
   },
   {
    "duration": 585,
    "start_time": "2024-04-16T06:39:08.837Z"
   },
   {
    "duration": 596,
    "start_time": "2024-04-16T06:39:09.425Z"
   },
   {
    "duration": 2,
    "start_time": "2024-04-16T06:39:10.023Z"
   },
   {
    "duration": 101,
    "start_time": "2024-04-16T06:39:10.027Z"
   },
   {
    "duration": 123,
    "start_time": "2024-04-16T06:39:10.130Z"
   },
   {
    "duration": 54,
    "start_time": "2024-04-16T06:39:10.255Z"
   },
   {
    "duration": 102,
    "start_time": "2024-04-16T06:39:10.311Z"
   },
   {
    "duration": 3,
    "start_time": "2024-04-16T06:39:10.414Z"
   },
   {
    "duration": 20,
    "start_time": "2024-04-16T06:39:10.419Z"
   },
   {
    "duration": 11,
    "start_time": "2024-04-16T06:39:10.441Z"
   },
   {
    "duration": 18,
    "start_time": "2024-04-16T06:39:10.455Z"
   },
   {
    "duration": 16,
    "start_time": "2024-04-16T06:39:10.474Z"
   },
   {
    "duration": 16,
    "start_time": "2024-04-16T06:39:10.491Z"
   },
   {
    "duration": 36,
    "start_time": "2024-04-16T06:39:10.509Z"
   },
   {
    "duration": 13,
    "start_time": "2024-04-16T06:39:10.547Z"
   },
   {
    "duration": 9,
    "start_time": "2024-04-16T06:39:10.562Z"
   },
   {
    "duration": 3158,
    "start_time": "2024-04-16T06:39:10.572Z"
   },
   {
    "duration": 3,
    "start_time": "2024-04-16T06:39:13.731Z"
   },
   {
    "duration": 11,
    "start_time": "2024-04-16T06:39:13.736Z"
   },
   {
    "duration": 5,
    "start_time": "2024-04-16T06:39:13.749Z"
   },
   {
    "duration": 10,
    "start_time": "2024-04-16T06:39:13.756Z"
   },
   {
    "duration": 5,
    "start_time": "2024-04-16T06:39:13.768Z"
   },
   {
    "duration": 78,
    "start_time": "2024-04-16T06:39:13.774Z"
   },
   {
    "duration": 70248,
    "start_time": "2024-04-16T06:39:13.854Z"
   },
   {
    "duration": 131,
    "start_time": "2024-04-16T06:40:24.195Z"
   },
   {
    "duration": 2,
    "start_time": "2024-04-16T06:40:24.328Z"
   },
   {
    "duration": 11,
    "start_time": "2024-04-16T06:40:24.332Z"
   },
   {
    "duration": 18,
    "start_time": "2024-04-16T06:40:24.344Z"
   },
   {
    "duration": 7,
    "start_time": "2024-04-16T06:40:24.363Z"
   },
   {
    "duration": 26,
    "start_time": "2024-04-16T06:40:24.371Z"
   },
   {
    "duration": 5,
    "start_time": "2024-04-16T06:40:24.399Z"
   },
   {
    "duration": 3375,
    "start_time": "2024-04-16T06:40:24.405Z"
   },
   {
    "duration": 84,
    "start_time": "2024-04-16T06:46:38.772Z"
   },
   {
    "duration": 3,
    "start_time": "2024-04-16T06:46:42.727Z"
   },
   {
    "duration": 5,
    "start_time": "2024-04-16T06:47:02.555Z"
   },
   {
    "duration": 6,
    "start_time": "2024-04-16T06:48:10.014Z"
   },
   {
    "duration": 5,
    "start_time": "2024-04-16T06:48:17.479Z"
   },
   {
    "duration": 3357,
    "start_time": "2024-04-16T06:48:22.577Z"
   },
   {
    "duration": 7,
    "start_time": "2024-04-16T06:48:48.859Z"
   },
   {
    "duration": 7,
    "start_time": "2024-04-16T06:48:50.499Z"
   },
   {
    "duration": 3397,
    "start_time": "2024-04-16T06:48:52.461Z"
   },
   {
    "duration": 4,
    "start_time": "2024-04-16T06:49:01.906Z"
   },
   {
    "duration": 3333,
    "start_time": "2024-04-16T06:49:03.098Z"
   },
   {
    "duration": 5,
    "start_time": "2024-04-16T06:49:24.292Z"
   },
   {
    "duration": 3468,
    "start_time": "2024-04-16T06:49:26.245Z"
   },
   {
    "duration": 1151,
    "start_time": "2024-04-16T07:18:29.807Z"
   },
   {
    "duration": 24933,
    "start_time": "2024-04-16T07:18:34.644Z"
   },
   {
    "duration": 416,
    "start_time": "2024-04-16T07:19:15.918Z"
   },
   {
    "duration": 13,
    "start_time": "2024-04-16T07:19:42.375Z"
   },
   {
    "duration": 14,
    "start_time": "2024-04-16T07:20:01.918Z"
   },
   {
    "duration": 2454,
    "start_time": "2024-04-16T07:20:11.957Z"
   },
   {
    "duration": 19,
    "start_time": "2024-04-16T07:20:22.783Z"
   },
   {
    "duration": 2588,
    "start_time": "2024-04-16T07:25:39.309Z"
   },
   {
    "duration": 19,
    "start_time": "2024-04-16T07:25:52.878Z"
   },
   {
    "duration": 4094,
    "start_time": "2024-04-16T10:59:23.099Z"
   },
   {
    "duration": 3970,
    "start_time": "2024-04-16T10:59:27.196Z"
   },
   {
    "duration": 630,
    "start_time": "2024-04-16T10:59:31.168Z"
   },
   {
    "duration": 542,
    "start_time": "2024-04-16T10:59:31.801Z"
   },
   {
    "duration": 563,
    "start_time": "2024-04-16T10:59:32.344Z"
   },
   {
    "duration": 3,
    "start_time": "2024-04-16T10:59:32.908Z"
   },
   {
    "duration": 67,
    "start_time": "2024-04-16T10:59:32.912Z"
   },
   {
    "duration": 91,
    "start_time": "2024-04-16T10:59:32.980Z"
   },
   {
    "duration": 43,
    "start_time": "2024-04-16T10:59:33.073Z"
   },
   {
    "duration": 116,
    "start_time": "2024-04-16T10:59:33.119Z"
   },
   {
    "duration": 3,
    "start_time": "2024-04-16T10:59:33.237Z"
   },
   {
    "duration": 26,
    "start_time": "2024-04-16T10:59:33.242Z"
   },
   {
    "duration": 23,
    "start_time": "2024-04-16T10:59:33.270Z"
   },
   {
    "duration": 7,
    "start_time": "2024-04-16T10:59:33.294Z"
   },
   {
    "duration": 24,
    "start_time": "2024-04-16T10:59:33.303Z"
   },
   {
    "duration": 38,
    "start_time": "2024-04-16T10:59:33.328Z"
   },
   {
    "duration": 46,
    "start_time": "2024-04-16T10:59:33.368Z"
   },
   {
    "duration": 19,
    "start_time": "2024-04-16T10:59:33.416Z"
   },
   {
    "duration": 12,
    "start_time": "2024-04-16T10:59:33.437Z"
   },
   {
    "duration": 2958,
    "start_time": "2024-04-16T10:59:33.451Z"
   },
   {
    "duration": 3,
    "start_time": "2024-04-16T10:59:36.410Z"
   },
   {
    "duration": 6,
    "start_time": "2024-04-16T10:59:36.415Z"
   },
   {
    "duration": 6,
    "start_time": "2024-04-16T10:59:36.422Z"
   },
   {
    "duration": 15,
    "start_time": "2024-04-16T10:59:36.429Z"
   },
   {
    "duration": 16,
    "start_time": "2024-04-16T10:59:36.445Z"
   },
   {
    "duration": 74,
    "start_time": "2024-04-16T10:59:36.463Z"
   },
   {
    "duration": 72648,
    "start_time": "2024-04-16T10:59:36.538Z"
   },
   {
    "duration": 129,
    "start_time": "2024-04-16T11:00:49.277Z"
   },
   {
    "duration": 5,
    "start_time": "2024-04-16T11:00:49.408Z"
   },
   {
    "duration": 16,
    "start_time": "2024-04-16T11:00:49.414Z"
   },
   {
    "duration": 29,
    "start_time": "2024-04-16T11:00:49.431Z"
   },
   {
    "duration": 15,
    "start_time": "2024-04-16T11:00:49.462Z"
   },
   {
    "duration": 36,
    "start_time": "2024-04-16T11:00:49.479Z"
   },
   {
    "duration": 6,
    "start_time": "2024-04-16T11:00:49.517Z"
   },
   {
    "duration": 3501,
    "start_time": "2024-04-16T11:00:49.524Z"
   },
   {
    "duration": 4,
    "start_time": "2024-04-16T11:05:43.132Z"
   },
   {
    "duration": 16,
    "start_time": "2024-04-16T11:05:44.174Z"
   },
   {
    "duration": 4,
    "start_time": "2024-04-16T11:05:46.442Z"
   },
   {
    "duration": 3322,
    "start_time": "2024-04-16T11:05:47.383Z"
   },
   {
    "duration": 3,
    "start_time": "2024-04-16T11:05:51.134Z"
   },
   {
    "duration": 2429,
    "start_time": "2024-04-16T11:05:51.141Z"
   },
   {
    "duration": 165,
    "start_time": "2024-04-16T11:05:53.572Z"
   },
   {
    "duration": 151,
    "start_time": "2024-04-16T11:05:53.738Z"
   },
   {
    "duration": 149,
    "start_time": "2024-04-16T11:05:53.891Z"
   },
   {
    "duration": 3,
    "start_time": "2024-04-16T11:05:54.043Z"
   },
   {
    "duration": 62,
    "start_time": "2024-04-16T11:05:54.047Z"
   },
   {
    "duration": 96,
    "start_time": "2024-04-16T11:05:54.111Z"
   },
   {
    "duration": 50,
    "start_time": "2024-04-16T11:05:54.209Z"
   },
   {
    "duration": 139,
    "start_time": "2024-04-16T11:05:54.261Z"
   },
   {
    "duration": 5,
    "start_time": "2024-04-16T11:05:54.403Z"
   },
   {
    "duration": 7,
    "start_time": "2024-04-16T11:05:54.410Z"
   },
   {
    "duration": 7,
    "start_time": "2024-04-16T11:05:54.419Z"
   },
   {
    "duration": 12,
    "start_time": "2024-04-16T11:05:54.427Z"
   },
   {
    "duration": 7,
    "start_time": "2024-04-16T11:05:54.441Z"
   },
   {
    "duration": 10,
    "start_time": "2024-04-16T11:05:54.450Z"
   },
   {
    "duration": 16,
    "start_time": "2024-04-16T11:05:54.462Z"
   },
   {
    "duration": 17,
    "start_time": "2024-04-16T11:05:54.480Z"
   },
   {
    "duration": 19,
    "start_time": "2024-04-16T11:05:54.499Z"
   },
   {
    "duration": 2676,
    "start_time": "2024-04-16T11:05:54.520Z"
   },
   {
    "duration": 3,
    "start_time": "2024-04-16T11:05:57.198Z"
   },
   {
    "duration": 22,
    "start_time": "2024-04-16T11:05:57.203Z"
   },
   {
    "duration": 14,
    "start_time": "2024-04-16T11:05:57.227Z"
   },
   {
    "duration": 29,
    "start_time": "2024-04-16T11:05:57.242Z"
   },
   {
    "duration": 31,
    "start_time": "2024-04-16T11:05:57.272Z"
   },
   {
    "duration": 71,
    "start_time": "2024-04-16T11:05:57.305Z"
   },
   {
    "duration": 1551,
    "start_time": "2024-05-21T09:46:48.009Z"
   },
   {
    "duration": 3803,
    "start_time": "2024-05-21T09:46:49.562Z"
   },
   {
    "duration": 236,
    "start_time": "2024-05-21T09:46:53.366Z"
   },
   {
    "duration": 189,
    "start_time": "2024-05-21T09:46:53.604Z"
   },
   {
    "duration": 190,
    "start_time": "2024-05-21T09:46:53.795Z"
   },
   {
    "duration": 3,
    "start_time": "2024-05-21T09:46:53.986Z"
   },
   {
    "duration": 41,
    "start_time": "2024-05-21T09:46:53.990Z"
   },
   {
    "duration": 85,
    "start_time": "2024-05-21T09:46:54.032Z"
   },
   {
    "duration": 33,
    "start_time": "2024-05-21T09:46:54.119Z"
   },
   {
    "duration": 91,
    "start_time": "2024-05-21T09:46:54.153Z"
   },
   {
    "duration": 3,
    "start_time": "2024-05-21T09:46:54.245Z"
   },
   {
    "duration": 5,
    "start_time": "2024-05-21T09:46:54.250Z"
   },
   {
    "duration": 7,
    "start_time": "2024-05-21T09:46:54.257Z"
   },
   {
    "duration": 2,
    "start_time": "2024-05-21T09:46:54.266Z"
   },
   {
    "duration": 4,
    "start_time": "2024-05-21T09:46:54.270Z"
   },
   {
    "duration": 4,
    "start_time": "2024-05-21T09:46:54.275Z"
   },
   {
    "duration": 11,
    "start_time": "2024-05-21T09:46:54.280Z"
   },
   {
    "duration": 25,
    "start_time": "2024-05-21T09:46:54.292Z"
   },
   {
    "duration": 8,
    "start_time": "2024-05-21T09:46:54.318Z"
   },
   {
    "duration": 2699,
    "start_time": "2024-05-21T09:46:54.327Z"
   },
   {
    "duration": 2,
    "start_time": "2024-05-21T09:46:57.028Z"
   },
   {
    "duration": 4,
    "start_time": "2024-05-21T09:46:57.031Z"
   },
   {
    "duration": 13,
    "start_time": "2024-05-21T09:46:57.036Z"
   },
   {
    "duration": 4,
    "start_time": "2024-05-21T09:46:57.050Z"
   },
   {
    "duration": 5,
    "start_time": "2024-05-21T09:46:57.055Z"
   },
   {
    "duration": 61,
    "start_time": "2024-05-21T09:46:57.061Z"
   },
   {
    "duration": 60189,
    "start_time": "2024-05-21T09:46:57.124Z"
   },
   {
    "duration": 221,
    "start_time": "2024-05-21T09:47:57.314Z"
   },
   {
    "duration": 3,
    "start_time": "2024-05-21T09:47:57.536Z"
   },
   {
    "duration": 9,
    "start_time": "2024-05-21T09:47:57.540Z"
   },
   {
    "duration": 5,
    "start_time": "2024-05-21T09:47:57.550Z"
   },
   {
    "duration": 3,
    "start_time": "2024-05-21T09:47:57.556Z"
   },
   {
    "duration": 23,
    "start_time": "2024-05-21T09:47:57.561Z"
   },
   {
    "duration": 5,
    "start_time": "2024-05-21T09:49:14.354Z"
   },
   {
    "duration": 5,
    "start_time": "2024-05-21T09:50:01.032Z"
   },
   {
    "duration": 5,
    "start_time": "2024-05-21T09:50:53.454Z"
   },
   {
    "duration": 2643,
    "start_time": "2024-05-21T09:50:56.365Z"
   },
   {
    "duration": 63,
    "start_time": "2024-05-21T10:50:49.270Z"
   },
   {
    "duration": 8,
    "start_time": "2024-05-21T10:51:01.173Z"
   },
   {
    "duration": 6,
    "start_time": "2024-05-21T10:51:04.577Z"
   },
   {
    "duration": 10697,
    "start_time": "2024-05-21T10:51:08.423Z"
   },
   {
    "duration": 3212,
    "start_time": "2024-05-21T10:51:19.122Z"
   },
   {
    "duration": 163,
    "start_time": "2024-05-21T10:51:22.336Z"
   },
   {
    "duration": 135,
    "start_time": "2024-05-21T10:51:22.501Z"
   },
   {
    "duration": 139,
    "start_time": "2024-05-21T10:51:22.638Z"
   },
   {
    "duration": 2,
    "start_time": "2024-05-21T10:51:22.779Z"
   },
   {
    "duration": 59,
    "start_time": "2024-05-21T10:51:22.783Z"
   },
   {
    "duration": 88,
    "start_time": "2024-05-21T10:51:22.844Z"
   },
   {
    "duration": 47,
    "start_time": "2024-05-21T10:51:22.934Z"
   },
   {
    "duration": 152,
    "start_time": "2024-05-21T10:51:22.984Z"
   },
   {
    "duration": 4,
    "start_time": "2024-05-21T10:51:23.138Z"
   },
   {
    "duration": 7,
    "start_time": "2024-05-21T10:51:23.143Z"
   },
   {
    "duration": 4,
    "start_time": "2024-05-21T10:51:23.158Z"
   },
   {
    "duration": 7,
    "start_time": "2024-05-21T10:51:23.163Z"
   },
   {
    "duration": 6,
    "start_time": "2024-05-21T10:51:23.172Z"
   },
   {
    "duration": 6,
    "start_time": "2024-05-21T10:51:23.180Z"
   },
   {
    "duration": 20,
    "start_time": "2024-05-21T10:51:23.187Z"
   },
   {
    "duration": 77,
    "start_time": "2024-05-21T10:51:23.209Z"
   },
   {
    "duration": 10,
    "start_time": "2024-05-21T10:51:23.288Z"
   },
   {
    "duration": 2969,
    "start_time": "2024-05-21T10:51:23.299Z"
   },
   {
    "duration": 3,
    "start_time": "2024-05-21T10:51:26.270Z"
   },
   {
    "duration": 32,
    "start_time": "2024-05-21T10:51:26.275Z"
   },
   {
    "duration": 21,
    "start_time": "2024-05-21T10:51:26.310Z"
   },
   {
    "duration": 22,
    "start_time": "2024-05-21T10:51:26.333Z"
   },
   {
    "duration": 10,
    "start_time": "2024-05-21T10:51:26.357Z"
   },
   {
    "duration": 82,
    "start_time": "2024-05-21T10:51:26.369Z"
   },
   {
    "duration": 68610,
    "start_time": "2024-05-21T10:51:26.453Z"
   },
   {
    "duration": 223,
    "start_time": "2024-05-21T10:52:35.067Z"
   },
   {
    "duration": 3,
    "start_time": "2024-05-21T10:52:35.292Z"
   },
   {
    "duration": 19,
    "start_time": "2024-05-21T10:52:35.296Z"
   },
   {
    "duration": 19,
    "start_time": "2024-05-21T10:52:35.317Z"
   },
   {
    "duration": 6,
    "start_time": "2024-05-21T10:52:35.338Z"
   },
   {
    "duration": 23,
    "start_time": "2024-05-21T10:52:35.345Z"
   },
   {
    "duration": 5,
    "start_time": "2024-05-21T10:52:35.370Z"
   },
   {
    "duration": 52,
    "start_time": "2024-05-21T10:52:35.376Z"
   },
   {
    "duration": 3348,
    "start_time": "2024-05-21T10:52:35.430Z"
   },
   {
    "duration": 87,
    "start_time": "2024-05-21T10:55:54.138Z"
   },
   {
    "duration": 77,
    "start_time": "2024-05-21T10:55:56.272Z"
   },
   {
    "duration": 6,
    "start_time": "2024-05-21T10:56:04.367Z"
   },
   {
    "duration": 1643,
    "start_time": "2024-05-22T07:28:38.165Z"
   },
   {
    "duration": 3602,
    "start_time": "2024-05-22T07:28:39.810Z"
   },
   {
    "duration": 600,
    "start_time": "2024-05-22T07:28:43.414Z"
   },
   {
    "duration": 530,
    "start_time": "2024-05-22T07:28:44.016Z"
   },
   {
    "duration": 551,
    "start_time": "2024-05-22T07:28:44.548Z"
   },
   {
    "duration": 3,
    "start_time": "2024-05-22T07:28:45.101Z"
   },
   {
    "duration": 62,
    "start_time": "2024-05-22T07:28:45.106Z"
   },
   {
    "duration": 96,
    "start_time": "2024-05-22T07:28:45.169Z"
   },
   {
    "duration": 47,
    "start_time": "2024-05-22T07:28:45.267Z"
   },
   {
    "duration": 126,
    "start_time": "2024-05-22T07:28:45.316Z"
   },
   {
    "duration": 4,
    "start_time": "2024-05-22T07:28:45.443Z"
   },
   {
    "duration": 15,
    "start_time": "2024-05-22T07:28:45.448Z"
   },
   {
    "duration": 7,
    "start_time": "2024-05-22T07:28:45.465Z"
   },
   {
    "duration": 11,
    "start_time": "2024-05-22T07:28:45.475Z"
   },
   {
    "duration": 3,
    "start_time": "2024-05-22T07:28:45.488Z"
   },
   {
    "duration": 4,
    "start_time": "2024-05-22T07:28:45.493Z"
   },
   {
    "duration": 4,
    "start_time": "2024-05-22T07:28:45.499Z"
   },
   {
    "duration": 13,
    "start_time": "2024-05-22T07:28:45.505Z"
   },
   {
    "duration": 13,
    "start_time": "2024-05-22T07:28:45.520Z"
   },
   {
    "duration": 3029,
    "start_time": "2024-05-22T07:28:45.559Z"
   },
   {
    "duration": 3,
    "start_time": "2024-05-22T07:28:48.590Z"
   },
   {
    "duration": 7,
    "start_time": "2024-05-22T07:28:48.595Z"
   },
   {
    "duration": 9,
    "start_time": "2024-05-22T07:28:48.604Z"
   },
   {
    "duration": 13,
    "start_time": "2024-05-22T07:28:48.615Z"
   },
   {
    "duration": 12,
    "start_time": "2024-05-22T07:28:48.630Z"
   },
   {
    "duration": 89,
    "start_time": "2024-05-22T07:28:48.644Z"
   },
   {
    "duration": 68428,
    "start_time": "2024-05-22T07:28:48.735Z"
   },
   {
    "duration": 218,
    "start_time": "2024-05-22T07:29:57.165Z"
   },
   {
    "duration": 10,
    "start_time": "2024-05-22T07:29:57.385Z"
   },
   {
    "duration": 10,
    "start_time": "2024-05-22T07:29:57.396Z"
   },
   {
    "duration": 24,
    "start_time": "2024-05-22T07:29:57.408Z"
   },
   {
    "duration": 13,
    "start_time": "2024-05-22T07:29:57.433Z"
   },
   {
    "duration": 67,
    "start_time": "2024-05-22T07:29:57.448Z"
   },
   {
    "duration": 5,
    "start_time": "2024-05-22T07:29:57.517Z"
   },
   {
    "duration": 20,
    "start_time": "2024-05-22T07:29:57.524Z"
   },
   {
    "duration": 3261,
    "start_time": "2024-05-22T07:29:57.546Z"
   },
   {
    "duration": 1083,
    "start_time": "2024-05-22T07:36:27.850Z"
   },
   {
    "duration": 1132,
    "start_time": "2024-05-22T07:36:52.980Z"
   },
   {
    "duration": 6,
    "start_time": "2024-05-22T07:47:41.733Z"
   },
   {
    "duration": 128,
    "start_time": "2024-05-22T07:47:43.554Z"
   },
   {
    "duration": 6,
    "start_time": "2024-05-22T07:47:55.722Z"
   },
   {
    "duration": 17,
    "start_time": "2024-05-22T07:47:57.895Z"
   },
   {
    "duration": 5,
    "start_time": "2024-05-22T07:48:06.313Z"
   },
   {
    "duration": 16,
    "start_time": "2024-05-22T07:48:07.723Z"
   },
   {
    "duration": 5,
    "start_time": "2024-05-22T07:48:18.829Z"
   },
   {
    "duration": 1124,
    "start_time": "2024-05-22T07:48:20.350Z"
   },
   {
    "duration": 5,
    "start_time": "2024-05-22T07:49:53.387Z"
   },
   {
    "duration": 1108,
    "start_time": "2024-05-22T07:49:54.386Z"
   },
   {
    "duration": 8,
    "start_time": "2024-05-22T07:51:20.588Z"
   },
   {
    "duration": 1207,
    "start_time": "2024-05-22T07:51:21.452Z"
   },
   {
    "duration": 5,
    "start_time": "2024-05-22T07:58:45.008Z"
   },
   {
    "duration": 13,
    "start_time": "2024-05-22T08:00:48.289Z"
   },
   {
    "duration": 5,
    "start_time": "2024-05-22T08:02:13.997Z"
   },
   {
    "duration": 29,
    "start_time": "2024-05-22T08:02:15.763Z"
   },
   {
    "duration": 4,
    "start_time": "2024-05-22T08:02:24.508Z"
   },
   {
    "duration": 13,
    "start_time": "2024-05-22T08:02:25.899Z"
   },
   {
    "duration": 5,
    "start_time": "2024-05-22T08:02:44.930Z"
   },
   {
    "duration": 11,
    "start_time": "2024-05-22T08:02:46.599Z"
   },
   {
    "duration": 6,
    "start_time": "2024-05-22T08:03:19.045Z"
   },
   {
    "duration": 18,
    "start_time": "2024-05-22T08:03:20.740Z"
   },
   {
    "duration": 4,
    "start_time": "2024-05-22T08:03:58.360Z"
   },
   {
    "duration": 17,
    "start_time": "2024-05-22T08:03:59.831Z"
   },
   {
    "duration": 4,
    "start_time": "2024-05-22T08:04:14.371Z"
   },
   {
    "duration": 11,
    "start_time": "2024-05-22T08:04:15.967Z"
   },
   {
    "duration": 4,
    "start_time": "2024-05-22T08:04:35.075Z"
   },
   {
    "duration": 12,
    "start_time": "2024-05-22T08:04:36.556Z"
   },
   {
    "duration": 4,
    "start_time": "2024-05-22T08:05:40.688Z"
   },
   {
    "duration": 11,
    "start_time": "2024-05-22T08:05:42.171Z"
   },
   {
    "duration": 4,
    "start_time": "2024-05-22T08:05:56.971Z"
   },
   {
    "duration": 12,
    "start_time": "2024-05-22T08:05:58.360Z"
   },
   {
    "duration": 5,
    "start_time": "2024-05-22T08:06:23.993Z"
   },
   {
    "duration": 9,
    "start_time": "2024-05-22T08:06:24.732Z"
   },
   {
    "duration": 4,
    "start_time": "2024-05-22T08:13:53.878Z"
   },
   {
    "duration": 14,
    "start_time": "2024-05-22T08:13:54.582Z"
   },
   {
    "duration": 4,
    "start_time": "2024-05-22T08:20:06.016Z"
   },
   {
    "duration": 18,
    "start_time": "2024-05-22T08:20:07.819Z"
   },
   {
    "duration": 4,
    "start_time": "2024-05-22T08:20:37.666Z"
   },
   {
    "duration": 19,
    "start_time": "2024-05-22T08:20:38.550Z"
   },
   {
    "duration": 5,
    "start_time": "2024-05-22T08:21:32.597Z"
   },
   {
    "duration": 28,
    "start_time": "2024-05-22T08:21:33.392Z"
   },
   {
    "duration": 4,
    "start_time": "2024-05-22T08:22:46.702Z"
   },
   {
    "duration": 10,
    "start_time": "2024-05-22T08:22:48.095Z"
   },
   {
    "duration": 10,
    "start_time": "2024-05-22T08:22:50.651Z"
   },
   {
    "duration": 11,
    "start_time": "2024-05-22T08:22:52.077Z"
   },
   {
    "duration": 9,
    "start_time": "2024-05-22T08:22:52.954Z"
   },
   {
    "duration": 12,
    "start_time": "2024-05-22T08:22:53.670Z"
   },
   {
    "duration": 13,
    "start_time": "2024-05-22T08:22:54.316Z"
   },
   {
    "duration": 10,
    "start_time": "2024-05-22T08:22:54.978Z"
   },
   {
    "duration": 9,
    "start_time": "2024-05-22T08:22:55.613Z"
   },
   {
    "duration": 9,
    "start_time": "2024-05-22T08:22:56.266Z"
   },
   {
    "duration": 10,
    "start_time": "2024-05-22T08:22:56.944Z"
   },
   {
    "duration": 10,
    "start_time": "2024-05-22T08:22:57.667Z"
   },
   {
    "duration": 10,
    "start_time": "2024-05-22T08:22:58.403Z"
   },
   {
    "duration": 10,
    "start_time": "2024-05-22T08:22:59.060Z"
   },
   {
    "duration": 11,
    "start_time": "2024-05-22T08:23:00.042Z"
   },
   {
    "duration": 9,
    "start_time": "2024-05-22T08:23:00.753Z"
   },
   {
    "duration": 13,
    "start_time": "2024-05-22T08:23:01.499Z"
   },
   {
    "duration": 12,
    "start_time": "2024-05-22T08:23:02.198Z"
   },
   {
    "duration": 11,
    "start_time": "2024-05-22T08:23:02.958Z"
   },
   {
    "duration": 10,
    "start_time": "2024-05-22T08:23:04.809Z"
   },
   {
    "duration": 11,
    "start_time": "2024-05-22T08:23:05.473Z"
   },
   {
    "duration": 11,
    "start_time": "2024-05-22T08:23:06.141Z"
   },
   {
    "duration": 4,
    "start_time": "2024-05-22T08:25:22.688Z"
   },
   {
    "duration": 17,
    "start_time": "2024-05-22T08:25:24.406Z"
   },
   {
    "duration": 5,
    "start_time": "2024-05-22T08:25:26.924Z"
   },
   {
    "duration": 3435,
    "start_time": "2024-05-22T08:25:30.323Z"
   },
   {
    "duration": 3394,
    "start_time": "2024-05-22T08:25:35.940Z"
   },
   {
    "duration": 1481,
    "start_time": "2024-05-22T08:38:23.774Z"
   },
   {
    "duration": 2587,
    "start_time": "2024-05-22T08:38:25.257Z"
   },
   {
    "duration": 174,
    "start_time": "2024-05-22T08:38:27.846Z"
   },
   {
    "duration": 147,
    "start_time": "2024-05-22T08:38:28.022Z"
   },
   {
    "duration": 151,
    "start_time": "2024-05-22T08:38:28.171Z"
   },
   {
    "duration": 3,
    "start_time": "2024-05-22T08:38:28.324Z"
   },
   {
    "duration": 64,
    "start_time": "2024-05-22T08:38:28.329Z"
   },
   {
    "duration": 113,
    "start_time": "2024-05-22T08:38:28.396Z"
   },
   {
    "duration": 49,
    "start_time": "2024-05-22T08:38:28.511Z"
   },
   {
    "duration": 149,
    "start_time": "2024-05-22T08:38:28.562Z"
   },
   {
    "duration": 4,
    "start_time": "2024-05-22T08:38:28.713Z"
   },
   {
    "duration": 29,
    "start_time": "2024-05-22T08:38:28.718Z"
   },
   {
    "duration": 44,
    "start_time": "2024-05-22T08:38:28.749Z"
   },
   {
    "duration": 22,
    "start_time": "2024-05-22T08:38:28.797Z"
   },
   {
    "duration": 25,
    "start_time": "2024-05-22T08:38:28.820Z"
   },
   {
    "duration": 13,
    "start_time": "2024-05-22T08:38:28.847Z"
   },
   {
    "duration": 23,
    "start_time": "2024-05-22T08:38:28.862Z"
   },
   {
    "duration": 30,
    "start_time": "2024-05-22T08:38:28.887Z"
   },
   {
    "duration": 10,
    "start_time": "2024-05-22T08:38:28.919Z"
   },
   {
    "duration": 3172,
    "start_time": "2024-05-22T08:38:28.930Z"
   },
   {
    "duration": 3,
    "start_time": "2024-05-22T08:38:32.104Z"
   },
   {
    "duration": 51,
    "start_time": "2024-05-22T08:38:32.108Z"
   },
   {
    "duration": 36,
    "start_time": "2024-05-22T08:38:32.161Z"
   },
   {
    "duration": 19,
    "start_time": "2024-05-22T08:38:32.198Z"
   },
   {
    "duration": 18,
    "start_time": "2024-05-22T08:38:32.219Z"
   },
   {
    "duration": 83,
    "start_time": "2024-05-22T08:38:32.240Z"
   },
   {
    "duration": 72035,
    "start_time": "2024-05-22T08:38:32.325Z"
   },
   {
    "duration": 218,
    "start_time": "2024-05-22T08:39:44.362Z"
   },
   {
    "duration": 3,
    "start_time": "2024-05-22T08:39:44.582Z"
   },
   {
    "duration": 17,
    "start_time": "2024-05-22T08:39:44.587Z"
   },
   {
    "duration": 7,
    "start_time": "2024-05-22T08:39:44.608Z"
   },
   {
    "duration": 22,
    "start_time": "2024-05-22T08:39:44.617Z"
   },
   {
    "duration": 50,
    "start_time": "2024-05-22T08:39:44.642Z"
   },
   {
    "duration": 5,
    "start_time": "2024-05-22T08:39:44.694Z"
   },
   {
    "duration": 3469,
    "start_time": "2024-05-22T08:39:44.701Z"
   }
  ],
  "kernelspec": {
   "display_name": "Python 3 (ipykernel)",
   "language": "python",
   "name": "python3"
  },
  "language_info": {
   "codemirror_mode": {
    "name": "ipython",
    "version": 3
   },
   "file_extension": ".py",
   "mimetype": "text/x-python",
   "name": "python",
   "nbconvert_exporter": "python",
   "pygments_lexer": "ipython3",
   "version": "3.9.5"
  },
  "toc": {
   "base_numbering": 1,
   "nav_menu": {},
   "number_sections": true,
   "sideBar": false,
   "skip_h1_title": true,
   "title_cell": "Table of Contents",
   "title_sidebar": "Contents",
   "toc_cell": false,
   "toc_position": {
    "height": "764.167px",
    "left": "1627px",
    "top": "110.547px",
    "width": "455.26px"
   },
   "toc_section_display": true,
   "toc_window_display": true
  }
 },
 "nbformat": 4,
 "nbformat_minor": 2
}
